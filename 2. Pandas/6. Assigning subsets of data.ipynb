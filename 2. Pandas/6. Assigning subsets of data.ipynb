{
 "cells": [
  {
   "cell_type": "markdown",
   "metadata": {
    "colab_type": "text",
    "id": "ivYY-7BsWLDr"
   },
   "source": [
    "\n",
    "\n",
    "## Assigning subsets of data\n",
    "\n",
    "\n",
    "## Assignment\n",
    "\n",
    "```Python\n",
    "variable = expression\n",
    "```\n",
    "```Python\n",
    "subset_of_DataFrame_or_Series = new_values\n",
    "```\n",
    "\n",
    "## Documentation on Assigning subsets of data\n",
    "There isn't one particular sub-section of the documentation that covers this topic precisely. Several examples are available throughout the entire [indexing section](http://pandas.pydata.org/pandas-docs/stable/indexing.html).\n",
    "\n",
    "\n",
    "## Small Sample Dataset\n",
    "During this tutorial, we will be working with a small sample of the [employee](Dataset%20Descriptions.ipynb#Employee-Data) dataset. The small dataset will help us immediately see the changes. "
   ]
  },
  {
   "cell_type": "code",
   "execution_count": 3,
   "metadata": {
    "colab": {
     "base_uri": "https://localhost:8080/",
     "height": 360
    },
    "colab_type": "code",
    "executionInfo": {
     "elapsed": 28935,
     "status": "ok",
     "timestamp": 1566297086650,
     "user": {
      "displayName": "Ai Adventures",
      "photoUrl": "https://lh3.googleusercontent.com/-OQdAjp2vMZo/AAAAAAAAAAI/AAAAAAAAAA8/8FVq41kVT5s/s64/photo.jpg",
      "userId": "14635366068755244481"
     },
     "user_tz": -330
    },
    "id": "BQws0-belFj_",
    "outputId": "2d2f9220-14a5-4c69-9a67-e5211113827c"
   },
   "outputs": [
    {
     "name": "stdout",
     "output_type": "stream",
     "text": [
      "Go to this URL in a browser: https://accounts.google.com/o/oauth2/auth?client_id=947318989803-6bn6qk8qdgf4n4g3pfee6491hc0brc4i.apps.googleusercontent.com&redirect_uri=urn%3Aietf%3Awg%3Aoauth%3A2.0%3Aoob&scope=email%20https%3A%2F%2Fwww.googleapis.com%2Fauth%2Fdocs.test%20https%3A%2F%2Fwww.googleapis.com%2Fauth%2Fdrive%20https%3A%2F%2Fwww.googleapis.com%2Fauth%2Fdrive.photos.readonly%20https%3A%2F%2Fwww.googleapis.com%2Fauth%2Fpeopleapi.readonly&response_type=code\n",
      "\n",
      "Enter your authorization code:\n",
      "··········\n",
      "Mounted at /content/drive\n",
      "'1. pandas_intro.ipynb'\n",
      "'2. pandas series.ipynb'\n",
      "'3. Pandas DataFrame.ipynb'\n",
      "'4. Selecting Subsets with [ ], .loc and .iloc.ipynb'\n",
      "'5. Boolean Indexing.ipynb'\n",
      "'6. Assigning subsets of data.ipynb'\n",
      "'7. Other Important concepts in Pandas.ipynb'\n",
      "'8. Groupby.ipynb'\n",
      "'capstone projects'\n",
      " data\n",
      " images\n",
      "'pandas from numpy.pptx'\n",
      "'Pandas Solutions(Part 4-6).ipynb'\n",
      "'samples codes'\n"
     ]
    }
   ],
   "source": [
    "from google.colab import drive\n",
    "import os\n",
    "drive.mount('/content/drive')\n",
    "os.chdir('drive/My Drive/courses/FML/2. Data Science/1. Data Analysis/2. Pandas')\n",
    "!ls"
   ]
  },
  {
   "cell_type": "code",
   "execution_count": 0,
   "metadata": {
    "colab": {},
    "colab_type": "code",
    "id": "qTwyQ4tIWLDs"
   },
   "outputs": [],
   "source": [
    "import pandas as pd\n",
    "import numpy as np"
   ]
  },
  {
   "cell_type": "code",
   "execution_count": 5,
   "metadata": {
    "colab": {
     "base_uri": "https://localhost:8080/",
     "height": 266
    },
    "colab_type": "code",
    "executionInfo": {
     "elapsed": 1496,
     "status": "ok",
     "timestamp": 1566297093015,
     "user": {
      "displayName": "Ai Adventures",
      "photoUrl": "https://lh3.googleusercontent.com/-OQdAjp2vMZo/AAAAAAAAAAI/AAAAAAAAAA8/8FVq41kVT5s/s64/photo.jpg",
      "userId": "14635366068755244481"
     },
     "user_tz": -330
    },
    "id": "wsguHvSXWLDw",
    "outputId": "adb92588-7b43-460a-d9fe-c00abec2169a"
   },
   "outputs": [
    {
     "data": {
      "text/html": [
       "<div>\n",
       "<style scoped>\n",
       "    .dataframe tbody tr th:only-of-type {\n",
       "        vertical-align: middle;\n",
       "    }\n",
       "\n",
       "    .dataframe tbody tr th {\n",
       "        vertical-align: top;\n",
       "    }\n",
       "\n",
       "    .dataframe thead th {\n",
       "        text-align: right;\n",
       "    }\n",
       "</style>\n",
       "<table border=\"1\" class=\"dataframe\">\n",
       "  <thead>\n",
       "    <tr style=\"text-align: right;\">\n",
       "      <th></th>\n",
       "      <th>GENDER</th>\n",
       "      <th>RACE</th>\n",
       "      <th>DEPARTMENT</th>\n",
       "      <th>YEARS EXPERIENCE</th>\n",
       "      <th>SALARY</th>\n",
       "    </tr>\n",
       "  </thead>\n",
       "  <tbody>\n",
       "    <tr>\n",
       "      <th>Tom</th>\n",
       "      <td>Male</td>\n",
       "      <td>White</td>\n",
       "      <td>Engineering</td>\n",
       "      <td>23</td>\n",
       "      <td>107962</td>\n",
       "    </tr>\n",
       "    <tr>\n",
       "      <th>Niko</th>\n",
       "      <td>Male</td>\n",
       "      <td>Black</td>\n",
       "      <td>Engineering</td>\n",
       "      <td>1</td>\n",
       "      <td>30347</td>\n",
       "    </tr>\n",
       "    <tr>\n",
       "      <th>Penelope</th>\n",
       "      <td>Female</td>\n",
       "      <td>White</td>\n",
       "      <td>Engineering</td>\n",
       "      <td>12</td>\n",
       "      <td>60258</td>\n",
       "    </tr>\n",
       "    <tr>\n",
       "      <th>Aria</th>\n",
       "      <td>Female</td>\n",
       "      <td>Black</td>\n",
       "      <td>Engineering</td>\n",
       "      <td>8</td>\n",
       "      <td>43618</td>\n",
       "    </tr>\n",
       "    <tr>\n",
       "      <th>Sofia</th>\n",
       "      <td>Female</td>\n",
       "      <td>Black</td>\n",
       "      <td>Parks &amp; Recreation</td>\n",
       "      <td>23</td>\n",
       "      <td>26125</td>\n",
       "    </tr>\n",
       "    <tr>\n",
       "      <th>Dean</th>\n",
       "      <td>Male</td>\n",
       "      <td>Black</td>\n",
       "      <td>Parks &amp; Recreation</td>\n",
       "      <td>3</td>\n",
       "      <td>33592</td>\n",
       "    </tr>\n",
       "    <tr>\n",
       "      <th>Zach</th>\n",
       "      <td>Male</td>\n",
       "      <td>White</td>\n",
       "      <td>Parks &amp; Recreation</td>\n",
       "      <td>4</td>\n",
       "      <td>37565</td>\n",
       "    </tr>\n",
       "  </tbody>\n",
       "</table>\n",
       "</div>"
      ],
      "text/plain": [
       "          GENDER   RACE          DEPARTMENT  YEARS EXPERIENCE  SALARY\n",
       "Tom         Male  White         Engineering                23  107962\n",
       "Niko        Male  Black         Engineering                 1   30347\n",
       "Penelope  Female  White         Engineering                12   60258\n",
       "Aria      Female  Black         Engineering                 8   43618\n",
       "Sofia     Female  Black  Parks & Recreation                23   26125\n",
       "Dean        Male  Black  Parks & Recreation                 3   33592\n",
       "Zach        Male  White  Parks & Recreation                 4   37565"
      ]
     },
     "execution_count": 5,
     "metadata": {
      "tags": []
     },
     "output_type": "execute_result"
    }
   ],
   "source": [
    "df = pd.read_csv('data/employee_sample.csv', index_col=0)\n",
    "df"
   ]
  },
  {
   "cell_type": "markdown",
   "metadata": {
    "colab_type": "text",
    "id": "9hEz7YwMWLD4"
   },
   "source": [
    "## Creating a new column\n",
    "Before we change any of the data in this DataFrame, we will add a single column to the end. There are multiple ways of doing so, but we will begin by using [ ] (the brackets). Place a string inside of the brackets and make this the left-hand side of the assignment.\n",
    "\n",
    "The right-hand side can consist of any of the following:\n",
    "* A scalar value\n",
    "* A list or array with the same length as the DataFrame\n",
    "* A pandas Series with an index that matches the index of the DataFrame (a little tricky!)\n",
    "\n",
    "## New column assigned to a scalar value\n",
    "A **scalar** value is simply one single value, like an integer, string, boolean or date. When using a scalar for column assignment, each value in the column will be the same. Let's create a column **`SCORE`** and assign it the value 99."
   ]
  },
  {
   "cell_type": "code",
   "execution_count": 0,
   "metadata": {
    "colab": {},
    "colab_type": "code",
    "id": "w0ylZdNVWLD5"
   },
   "outputs": [],
   "source": [
    "df['SCORE'] = 99"
   ]
  },
  {
   "cell_type": "code",
   "execution_count": 7,
   "metadata": {
    "colab": {
     "base_uri": "https://localhost:8080/",
     "height": 266
    },
    "colab_type": "code",
    "executionInfo": {
     "elapsed": 593,
     "status": "ok",
     "timestamp": 1566297106339,
     "user": {
      "displayName": "Ai Adventures",
      "photoUrl": "https://lh3.googleusercontent.com/-OQdAjp2vMZo/AAAAAAAAAAI/AAAAAAAAAA8/8FVq41kVT5s/s64/photo.jpg",
      "userId": "14635366068755244481"
     },
     "user_tz": -330
    },
    "id": "vTO7hf5JWLD8",
    "outputId": "38bcb2e7-2af0-4250-cbf8-b4103668eb42"
   },
   "outputs": [
    {
     "data": {
      "text/html": [
       "<div>\n",
       "<style scoped>\n",
       "    .dataframe tbody tr th:only-of-type {\n",
       "        vertical-align: middle;\n",
       "    }\n",
       "\n",
       "    .dataframe tbody tr th {\n",
       "        vertical-align: top;\n",
       "    }\n",
       "\n",
       "    .dataframe thead th {\n",
       "        text-align: right;\n",
       "    }\n",
       "</style>\n",
       "<table border=\"1\" class=\"dataframe\">\n",
       "  <thead>\n",
       "    <tr style=\"text-align: right;\">\n",
       "      <th></th>\n",
       "      <th>GENDER</th>\n",
       "      <th>RACE</th>\n",
       "      <th>DEPARTMENT</th>\n",
       "      <th>YEARS EXPERIENCE</th>\n",
       "      <th>SALARY</th>\n",
       "      <th>SCORE</th>\n",
       "    </tr>\n",
       "  </thead>\n",
       "  <tbody>\n",
       "    <tr>\n",
       "      <th>Tom</th>\n",
       "      <td>Male</td>\n",
       "      <td>White</td>\n",
       "      <td>Engineering</td>\n",
       "      <td>23</td>\n",
       "      <td>107962</td>\n",
       "      <td>99</td>\n",
       "    </tr>\n",
       "    <tr>\n",
       "      <th>Niko</th>\n",
       "      <td>Male</td>\n",
       "      <td>Black</td>\n",
       "      <td>Engineering</td>\n",
       "      <td>1</td>\n",
       "      <td>30347</td>\n",
       "      <td>99</td>\n",
       "    </tr>\n",
       "    <tr>\n",
       "      <th>Penelope</th>\n",
       "      <td>Female</td>\n",
       "      <td>White</td>\n",
       "      <td>Engineering</td>\n",
       "      <td>12</td>\n",
       "      <td>60258</td>\n",
       "      <td>99</td>\n",
       "    </tr>\n",
       "    <tr>\n",
       "      <th>Aria</th>\n",
       "      <td>Female</td>\n",
       "      <td>Black</td>\n",
       "      <td>Engineering</td>\n",
       "      <td>8</td>\n",
       "      <td>43618</td>\n",
       "      <td>99</td>\n",
       "    </tr>\n",
       "    <tr>\n",
       "      <th>Sofia</th>\n",
       "      <td>Female</td>\n",
       "      <td>Black</td>\n",
       "      <td>Parks &amp; Recreation</td>\n",
       "      <td>23</td>\n",
       "      <td>26125</td>\n",
       "      <td>99</td>\n",
       "    </tr>\n",
       "    <tr>\n",
       "      <th>Dean</th>\n",
       "      <td>Male</td>\n",
       "      <td>Black</td>\n",
       "      <td>Parks &amp; Recreation</td>\n",
       "      <td>3</td>\n",
       "      <td>33592</td>\n",
       "      <td>99</td>\n",
       "    </tr>\n",
       "    <tr>\n",
       "      <th>Zach</th>\n",
       "      <td>Male</td>\n",
       "      <td>White</td>\n",
       "      <td>Parks &amp; Recreation</td>\n",
       "      <td>4</td>\n",
       "      <td>37565</td>\n",
       "      <td>99</td>\n",
       "    </tr>\n",
       "  </tbody>\n",
       "</table>\n",
       "</div>"
      ],
      "text/plain": [
       "          GENDER   RACE          DEPARTMENT  YEARS EXPERIENCE  SALARY  SCORE\n",
       "Tom         Male  White         Engineering                23  107962     99\n",
       "Niko        Male  Black         Engineering                 1   30347     99\n",
       "Penelope  Female  White         Engineering                12   60258     99\n",
       "Aria      Female  Black         Engineering                 8   43618     99\n",
       "Sofia     Female  Black  Parks & Recreation                23   26125     99\n",
       "Dean        Male  Black  Parks & Recreation                 3   33592     99\n",
       "Zach        Male  White  Parks & Recreation                 4   37565     99"
      ]
     },
     "execution_count": 7,
     "metadata": {
      "tags": []
     },
     "output_type": "execute_result"
    }
   ],
   "source": [
    "df"
   ]
  },
  {
   "cell_type": "markdown",
   "metadata": {
    "colab_type": "text",
    "id": "RT2xeUMlWLEA"
   },
   "source": [
    "## Create a new column with a list or array\n",
    "\n",
    "Instead of creating a new column with all the same values, we can use a list or NumPy array with different values for each row. The only stipulation is that the number of new values in the list/array must be the same as the number of rows in the DataFrame.\n",
    "\n",
    "Let's create the column **`BONUS RATE`**, with a list of numbers between 0 and 1."
   ]
  },
  {
   "cell_type": "code",
   "execution_count": 8,
   "metadata": {
    "colab": {
     "base_uri": "https://localhost:8080/",
     "height": 266
    },
    "colab_type": "code",
    "executionInfo": {
     "elapsed": 916,
     "status": "ok",
     "timestamp": 1566297120873,
     "user": {
      "displayName": "Ai Adventures",
      "photoUrl": "https://lh3.googleusercontent.com/-OQdAjp2vMZo/AAAAAAAAAAI/AAAAAAAAAA8/8FVq41kVT5s/s64/photo.jpg",
      "userId": "14635366068755244481"
     },
     "user_tz": -330
    },
    "id": "SMLc7_wRWLEB",
    "outputId": "123aa801-e3df-4698-8fdf-335c31900a72"
   },
   "outputs": [
    {
     "data": {
      "text/html": [
       "<div>\n",
       "<style scoped>\n",
       "    .dataframe tbody tr th:only-of-type {\n",
       "        vertical-align: middle;\n",
       "    }\n",
       "\n",
       "    .dataframe tbody tr th {\n",
       "        vertical-align: top;\n",
       "    }\n",
       "\n",
       "    .dataframe thead th {\n",
       "        text-align: right;\n",
       "    }\n",
       "</style>\n",
       "<table border=\"1\" class=\"dataframe\">\n",
       "  <thead>\n",
       "    <tr style=\"text-align: right;\">\n",
       "      <th></th>\n",
       "      <th>GENDER</th>\n",
       "      <th>RACE</th>\n",
       "      <th>DEPARTMENT</th>\n",
       "      <th>YEARS EXPERIENCE</th>\n",
       "      <th>SALARY</th>\n",
       "      <th>SCORE</th>\n",
       "      <th>BONUS RATE</th>\n",
       "    </tr>\n",
       "  </thead>\n",
       "  <tbody>\n",
       "    <tr>\n",
       "      <th>Tom</th>\n",
       "      <td>Male</td>\n",
       "      <td>White</td>\n",
       "      <td>Engineering</td>\n",
       "      <td>23</td>\n",
       "      <td>107962</td>\n",
       "      <td>99</td>\n",
       "      <td>0.20</td>\n",
       "    </tr>\n",
       "    <tr>\n",
       "      <th>Niko</th>\n",
       "      <td>Male</td>\n",
       "      <td>Black</td>\n",
       "      <td>Engineering</td>\n",
       "      <td>1</td>\n",
       "      <td>30347</td>\n",
       "      <td>99</td>\n",
       "      <td>0.10</td>\n",
       "    </tr>\n",
       "    <tr>\n",
       "      <th>Penelope</th>\n",
       "      <td>Female</td>\n",
       "      <td>White</td>\n",
       "      <td>Engineering</td>\n",
       "      <td>12</td>\n",
       "      <td>60258</td>\n",
       "      <td>99</td>\n",
       "      <td>0.00</td>\n",
       "    </tr>\n",
       "    <tr>\n",
       "      <th>Aria</th>\n",
       "      <td>Female</td>\n",
       "      <td>Black</td>\n",
       "      <td>Engineering</td>\n",
       "      <td>8</td>\n",
       "      <td>43618</td>\n",
       "      <td>99</td>\n",
       "      <td>0.15</td>\n",
       "    </tr>\n",
       "    <tr>\n",
       "      <th>Sofia</th>\n",
       "      <td>Female</td>\n",
       "      <td>Black</td>\n",
       "      <td>Parks &amp; Recreation</td>\n",
       "      <td>23</td>\n",
       "      <td>26125</td>\n",
       "      <td>99</td>\n",
       "      <td>0.12</td>\n",
       "    </tr>\n",
       "    <tr>\n",
       "      <th>Dean</th>\n",
       "      <td>Male</td>\n",
       "      <td>Black</td>\n",
       "      <td>Parks &amp; Recreation</td>\n",
       "      <td>3</td>\n",
       "      <td>33592</td>\n",
       "      <td>99</td>\n",
       "      <td>0.30</td>\n",
       "    </tr>\n",
       "    <tr>\n",
       "      <th>Zach</th>\n",
       "      <td>Male</td>\n",
       "      <td>White</td>\n",
       "      <td>Parks &amp; Recreation</td>\n",
       "      <td>4</td>\n",
       "      <td>37565</td>\n",
       "      <td>99</td>\n",
       "      <td>0.50</td>\n",
       "    </tr>\n",
       "  </tbody>\n",
       "</table>\n",
       "</div>"
      ],
      "text/plain": [
       "          GENDER   RACE          DEPARTMENT  ...  SALARY  SCORE  BONUS RATE\n",
       "Tom         Male  White         Engineering  ...  107962     99        0.20\n",
       "Niko        Male  Black         Engineering  ...   30347     99        0.10\n",
       "Penelope  Female  White         Engineering  ...   60258     99        0.00\n",
       "Aria      Female  Black         Engineering  ...   43618     99        0.15\n",
       "Sofia     Female  Black  Parks & Recreation  ...   26125     99        0.12\n",
       "Dean        Male  Black  Parks & Recreation  ...   33592     99        0.30\n",
       "Zach        Male  White  Parks & Recreation  ...   37565     99        0.50\n",
       "\n",
       "[7 rows x 7 columns]"
      ]
     },
     "execution_count": 8,
     "metadata": {
      "tags": []
     },
     "output_type": "execute_result"
    }
   ],
   "source": [
    "df['BONUS RATE'] = [.2, .1, 0, .15, .12, .3, 0.5]\n",
    "df"
   ]
  },
  {
   "cell_type": "markdown",
   "metadata": {
    "colab_type": "text",
    "id": "dfuePNFKWLEE"
   },
   "source": [
    "We could have just as easily used a one dimensional NumPy array to get the same exact results. Let's do just that and create a random array of integers to represent the floor that the employee works on.\n",
    "\n",
    "We use the **`randint`** function from NumPy's **`rand`** module. Use the **`low`** (inclusive) and **`high`** (exclusive) parameters to bound the range of possible integers. **`len(df)`** returns the number of rows in the DataFrame ensuring that the size of the array is correct.."
   ]
  },
  {
   "cell_type": "code",
   "execution_count": 0,
   "metadata": {
    "colab": {},
    "colab_type": "code",
    "id": "cHydmsnAWLEF",
    "outputId": "7ba0b4a9-ed85-492a-a2c2-f8a665017b6a"
   },
   "outputs": [
    {
     "data": {
      "text/plain": [
       "array([5, 4, 7, 3, 2, 9, 8])"
      ]
     },
     "execution_count": 10,
     "metadata": {
      "tags": []
     },
     "output_type": "execute_result"
    }
   ],
   "source": [
    "floor = np.random.randint(low=1, high=10, size=len(df))\n",
    "floor"
   ]
  },
  {
   "cell_type": "markdown",
   "metadata": {
    "colab_type": "text",
    "id": "YBnBfv5yWLEI"
   },
   "source": [
    "Then assign this to the **`FLOOR`** column:"
   ]
  },
  {
   "cell_type": "code",
   "execution_count": 0,
   "metadata": {
    "colab": {},
    "colab_type": "code",
    "id": "dVFJS7f2WLEJ",
    "outputId": "3a1986fb-ce4d-4b32-a04c-b2ab8be5b8d4"
   },
   "outputs": [
    {
     "data": {
      "text/html": [
       "<div>\n",
       "<style scoped>\n",
       "    .dataframe tbody tr th:only-of-type {\n",
       "        vertical-align: middle;\n",
       "    }\n",
       "\n",
       "    .dataframe tbody tr th {\n",
       "        vertical-align: top;\n",
       "    }\n",
       "\n",
       "    .dataframe thead th {\n",
       "        text-align: right;\n",
       "    }\n",
       "</style>\n",
       "<table border=\"1\" class=\"dataframe\">\n",
       "  <thead>\n",
       "    <tr style=\"text-align: right;\">\n",
       "      <th></th>\n",
       "      <th>GENDER</th>\n",
       "      <th>RACE</th>\n",
       "      <th>DEPARTMENT</th>\n",
       "      <th>YEARS EXPERIENCE</th>\n",
       "      <th>SALARY</th>\n",
       "      <th>SCORE</th>\n",
       "      <th>BONUS RATE</th>\n",
       "      <th>FLOOR</th>\n",
       "    </tr>\n",
       "  </thead>\n",
       "  <tbody>\n",
       "    <tr>\n",
       "      <th>Tom</th>\n",
       "      <td>Male</td>\n",
       "      <td>White</td>\n",
       "      <td>Engineering</td>\n",
       "      <td>23</td>\n",
       "      <td>107962</td>\n",
       "      <td>99</td>\n",
       "      <td>0.20</td>\n",
       "      <td>5</td>\n",
       "    </tr>\n",
       "    <tr>\n",
       "      <th>Niko</th>\n",
       "      <td>Male</td>\n",
       "      <td>Black</td>\n",
       "      <td>Engineering</td>\n",
       "      <td>1</td>\n",
       "      <td>30347</td>\n",
       "      <td>99</td>\n",
       "      <td>0.10</td>\n",
       "      <td>4</td>\n",
       "    </tr>\n",
       "    <tr>\n",
       "      <th>Penelope</th>\n",
       "      <td>Female</td>\n",
       "      <td>White</td>\n",
       "      <td>Engineering</td>\n",
       "      <td>12</td>\n",
       "      <td>60258</td>\n",
       "      <td>99</td>\n",
       "      <td>0.00</td>\n",
       "      <td>7</td>\n",
       "    </tr>\n",
       "    <tr>\n",
       "      <th>Aria</th>\n",
       "      <td>Female</td>\n",
       "      <td>Black</td>\n",
       "      <td>Engineering</td>\n",
       "      <td>8</td>\n",
       "      <td>43618</td>\n",
       "      <td>99</td>\n",
       "      <td>0.15</td>\n",
       "      <td>3</td>\n",
       "    </tr>\n",
       "    <tr>\n",
       "      <th>Sofia</th>\n",
       "      <td>Female</td>\n",
       "      <td>Black</td>\n",
       "      <td>Parks &amp; Recreation</td>\n",
       "      <td>23</td>\n",
       "      <td>26125</td>\n",
       "      <td>99</td>\n",
       "      <td>0.12</td>\n",
       "      <td>2</td>\n",
       "    </tr>\n",
       "    <tr>\n",
       "      <th>Dean</th>\n",
       "      <td>Male</td>\n",
       "      <td>Black</td>\n",
       "      <td>Parks &amp; Recreation</td>\n",
       "      <td>3</td>\n",
       "      <td>33592</td>\n",
       "      <td>99</td>\n",
       "      <td>0.30</td>\n",
       "      <td>9</td>\n",
       "    </tr>\n",
       "    <tr>\n",
       "      <th>Zach</th>\n",
       "      <td>Male</td>\n",
       "      <td>White</td>\n",
       "      <td>Parks &amp; Recreation</td>\n",
       "      <td>4</td>\n",
       "      <td>37565</td>\n",
       "      <td>99</td>\n",
       "      <td>0.50</td>\n",
       "      <td>8</td>\n",
       "    </tr>\n",
       "  </tbody>\n",
       "</table>\n",
       "</div>"
      ],
      "text/plain": [
       "          GENDER   RACE          DEPARTMENT  YEARS EXPERIENCE  SALARY  SCORE  \\\n",
       "Tom         Male  White         Engineering                23  107962     99   \n",
       "Niko        Male  Black         Engineering                 1   30347     99   \n",
       "Penelope  Female  White         Engineering                12   60258     99   \n",
       "Aria      Female  Black         Engineering                 8   43618     99   \n",
       "Sofia     Female  Black  Parks & Recreation                23   26125     99   \n",
       "Dean        Male  Black  Parks & Recreation                 3   33592     99   \n",
       "Zach        Male  White  Parks & Recreation                 4   37565     99   \n",
       "\n",
       "          BONUS RATE  FLOOR  \n",
       "Tom             0.20      5  \n",
       "Niko            0.10      4  \n",
       "Penelope        0.00      7  \n",
       "Aria            0.15      3  \n",
       "Sofia           0.12      2  \n",
       "Dean            0.30      9  \n",
       "Zach            0.50      8  "
      ]
     },
     "execution_count": 11,
     "metadata": {
      "tags": []
     },
     "output_type": "execute_result"
    }
   ],
   "source": [
    "df['FLOOR'] = floor\n",
    "df"
   ]
  },
  {
   "cell_type": "markdown",
   "metadata": {
    "colab_type": "text",
    "id": "DD13YWzFWLEN"
   },
   "source": [
    "## Creating a new column with a Series (tricky!)\n",
    "Let's create a new pandas Series and see what happens when we attempt to assign it as a new column in our DataFrame.\n",
    "\n",
    "Let's try and add a column for the last name of each person."
   ]
  },
  {
   "cell_type": "code",
   "execution_count": 0,
   "metadata": {
    "colab": {},
    "colab_type": "code",
    "id": "kfTfBKbmWLEN",
    "outputId": "f489f34f-0333-4319-bf08-192cec8c4dff"
   },
   "outputs": [
    {
     "data": {
      "text/plain": [
       "0       Smith\n",
       "1       Jones\n",
       "2    Williams\n",
       "3       Green\n",
       "4       Brown\n",
       "dtype: object"
      ]
     },
     "execution_count": 12,
     "metadata": {
      "tags": []
     },
     "output_type": "execute_result"
    }
   ],
   "source": [
    "last_name = pd.Series(['Smith', 'Jones', 'Williams', 'Green', 'Brown'])\n",
    "last_name"
   ]
  },
  {
   "cell_type": "code",
   "execution_count": 0,
   "metadata": {
    "colab": {},
    "colab_type": "code",
    "id": "5ggJm2STWLER"
   },
   "outputs": [],
   "source": [
    "df['last name'] = last_name"
   ]
  },
  {
   "cell_type": "code",
   "execution_count": 0,
   "metadata": {
    "colab": {},
    "colab_type": "code",
    "id": "pUyBvPVeWLET",
    "outputId": "fd21396e-79ab-43ea-897f-83050729f66b"
   },
   "outputs": [
    {
     "data": {
      "text/html": [
       "<div>\n",
       "<style scoped>\n",
       "    .dataframe tbody tr th:only-of-type {\n",
       "        vertical-align: middle;\n",
       "    }\n",
       "\n",
       "    .dataframe tbody tr th {\n",
       "        vertical-align: top;\n",
       "    }\n",
       "\n",
       "    .dataframe thead th {\n",
       "        text-align: right;\n",
       "    }\n",
       "</style>\n",
       "<table border=\"1\" class=\"dataframe\">\n",
       "  <thead>\n",
       "    <tr style=\"text-align: right;\">\n",
       "      <th></th>\n",
       "      <th>GENDER</th>\n",
       "      <th>RACE</th>\n",
       "      <th>DEPARTMENT</th>\n",
       "      <th>YEARS EXPERIENCE</th>\n",
       "      <th>SALARY</th>\n",
       "      <th>SCORE</th>\n",
       "      <th>last name</th>\n",
       "    </tr>\n",
       "  </thead>\n",
       "  <tbody>\n",
       "    <tr>\n",
       "      <th>Tom</th>\n",
       "      <td>Male</td>\n",
       "      <td>White</td>\n",
       "      <td>Engineering</td>\n",
       "      <td>23</td>\n",
       "      <td>107962</td>\n",
       "      <td>99</td>\n",
       "      <td>NaN</td>\n",
       "    </tr>\n",
       "    <tr>\n",
       "      <th>Niko</th>\n",
       "      <td>Male</td>\n",
       "      <td>Black</td>\n",
       "      <td>Engineering</td>\n",
       "      <td>1</td>\n",
       "      <td>30347</td>\n",
       "      <td>99</td>\n",
       "      <td>NaN</td>\n",
       "    </tr>\n",
       "    <tr>\n",
       "      <th>Penelope</th>\n",
       "      <td>Female</td>\n",
       "      <td>White</td>\n",
       "      <td>Engineering</td>\n",
       "      <td>12</td>\n",
       "      <td>60258</td>\n",
       "      <td>99</td>\n",
       "      <td>NaN</td>\n",
       "    </tr>\n",
       "    <tr>\n",
       "      <th>Aria</th>\n",
       "      <td>Female</td>\n",
       "      <td>Black</td>\n",
       "      <td>Engineering</td>\n",
       "      <td>8</td>\n",
       "      <td>43618</td>\n",
       "      <td>99</td>\n",
       "      <td>NaN</td>\n",
       "    </tr>\n",
       "    <tr>\n",
       "      <th>Sofia</th>\n",
       "      <td>Female</td>\n",
       "      <td>Black</td>\n",
       "      <td>Parks &amp; Recreation</td>\n",
       "      <td>23</td>\n",
       "      <td>26125</td>\n",
       "      <td>99</td>\n",
       "      <td>NaN</td>\n",
       "    </tr>\n",
       "    <tr>\n",
       "      <th>Dean</th>\n",
       "      <td>Male</td>\n",
       "      <td>Black</td>\n",
       "      <td>Parks &amp; Recreation</td>\n",
       "      <td>3</td>\n",
       "      <td>33592</td>\n",
       "      <td>99</td>\n",
       "      <td>NaN</td>\n",
       "    </tr>\n",
       "    <tr>\n",
       "      <th>Zach</th>\n",
       "      <td>Male</td>\n",
       "      <td>White</td>\n",
       "      <td>Parks &amp; Recreation</td>\n",
       "      <td>4</td>\n",
       "      <td>37565</td>\n",
       "      <td>99</td>\n",
       "      <td>NaN</td>\n",
       "    </tr>\n",
       "  </tbody>\n",
       "</table>\n",
       "</div>"
      ],
      "text/plain": [
       "          GENDER   RACE          DEPARTMENT  YEARS EXPERIENCE  SALARY  SCORE  \\\n",
       "Tom         Male  White         Engineering                23  107962     99   \n",
       "Niko        Male  Black         Engineering                 1   30347     99   \n",
       "Penelope  Female  White         Engineering                12   60258     99   \n",
       "Aria      Female  Black         Engineering                 8   43618     99   \n",
       "Sofia     Female  Black  Parks & Recreation                23   26125     99   \n",
       "Dean        Male  Black  Parks & Recreation                 3   33592     99   \n",
       "Zach        Male  White  Parks & Recreation                 4   37565     99   \n",
       "\n",
       "         last name  \n",
       "Tom            NaN  \n",
       "Niko           NaN  \n",
       "Penelope       NaN  \n",
       "Aria           NaN  \n",
       "Sofia          NaN  \n",
       "Dean           NaN  \n",
       "Zach           NaN  "
      ]
     },
     "execution_count": 15,
     "metadata": {
      "tags": []
     },
     "output_type": "execute_result"
    }
   ],
   "source": [
    "df"
   ]
  },
  {
   "cell_type": "code",
   "execution_count": 0,
   "metadata": {
    "colab": {},
    "colab_type": "code",
    "id": "kIr9qQyGWLEX",
    "outputId": "fae0d070-6a27-4501-bd6c-c22b5420f598"
   },
   "outputs": [
    {
     "data": {
      "text/plain": [
       "RangeIndex(start=0, stop=5, step=1)"
      ]
     },
     "execution_count": 13,
     "metadata": {
      "tags": []
     },
     "output_type": "execute_result"
    }
   ],
   "source": [
    "last_name.index"
   ]
  },
  {
   "cell_type": "code",
   "execution_count": 0,
   "metadata": {
    "colab": {},
    "colab_type": "code",
    "id": "LdHCWKveWLEb",
    "outputId": "c91a675b-c0c2-4e85-d7d2-5c0fce12a7b8"
   },
   "outputs": [
    {
     "data": {
      "text/plain": [
       "Index(['Tom', 'Niko', 'Penelope', 'Aria', 'Sofia', 'Dean', 'Zach'], dtype='object')"
      ]
     },
     "execution_count": 17,
     "metadata": {
      "tags": []
     },
     "output_type": "execute_result"
    }
   ],
   "source": [
    "df.index"
   ]
  },
  {
   "cell_type": "markdown",
   "metadata": {
    "colab_type": "text",
    "id": "bJs_SyakWLEf"
   },
   "source": [
    "So, DataFrame(df) & Series(last_name) have different index and that is causing the problem. Lets fix it."
   ]
  },
  {
   "cell_type": "code",
   "execution_count": 0,
   "metadata": {
    "colab": {},
    "colab_type": "code",
    "id": "KTbXaUBCWLEh",
    "outputId": "43f51fdd-82e0-4286-cda4-e4fd2a554ca8"
   },
   "outputs": [
    {
     "data": {
      "text/plain": [
       "Tom            Smith\n",
       "Niko           Jones\n",
       "Penelope    Williams\n",
       "Aria           Green\n",
       "Sofia          Brown\n",
       "dtype: object"
      ]
     },
     "execution_count": 19,
     "metadata": {
      "tags": []
     },
     "output_type": "execute_result"
    }
   ],
   "source": [
    "last_name.index = df.index[:len(last_name)]; last_name"
   ]
  },
  {
   "cell_type": "markdown",
   "metadata": {
    "colab_type": "text",
    "id": "kfKX7zRVWLEq"
   },
   "source": [
    "Make the assignment like we have done above:"
   ]
  },
  {
   "cell_type": "code",
   "execution_count": 0,
   "metadata": {
    "colab": {},
    "colab_type": "code",
    "id": "6YB_smRVWLEt",
    "outputId": "ed6f92ad-a366-4bfc-f282-e32b7150f098"
   },
   "outputs": [
    {
     "data": {
      "text/html": [
       "<div>\n",
       "<style scoped>\n",
       "    .dataframe tbody tr th:only-of-type {\n",
       "        vertical-align: middle;\n",
       "    }\n",
       "\n",
       "    .dataframe tbody tr th {\n",
       "        vertical-align: top;\n",
       "    }\n",
       "\n",
       "    .dataframe thead th {\n",
       "        text-align: right;\n",
       "    }\n",
       "</style>\n",
       "<table border=\"1\" class=\"dataframe\">\n",
       "  <thead>\n",
       "    <tr style=\"text-align: right;\">\n",
       "      <th></th>\n",
       "      <th>GENDER</th>\n",
       "      <th>RACE</th>\n",
       "      <th>DEPARTMENT</th>\n",
       "      <th>YEARS EXPERIENCE</th>\n",
       "      <th>SALARY</th>\n",
       "      <th>SCORE</th>\n",
       "      <th>last name</th>\n",
       "      <th>LAST NAME</th>\n",
       "    </tr>\n",
       "  </thead>\n",
       "  <tbody>\n",
       "    <tr>\n",
       "      <th>Tom</th>\n",
       "      <td>Male</td>\n",
       "      <td>White</td>\n",
       "      <td>Engineering</td>\n",
       "      <td>23</td>\n",
       "      <td>107962</td>\n",
       "      <td>99</td>\n",
       "      <td>NaN</td>\n",
       "      <td>Smith</td>\n",
       "    </tr>\n",
       "    <tr>\n",
       "      <th>Niko</th>\n",
       "      <td>Male</td>\n",
       "      <td>Black</td>\n",
       "      <td>Engineering</td>\n",
       "      <td>1</td>\n",
       "      <td>30347</td>\n",
       "      <td>99</td>\n",
       "      <td>NaN</td>\n",
       "      <td>Jones</td>\n",
       "    </tr>\n",
       "    <tr>\n",
       "      <th>Penelope</th>\n",
       "      <td>Female</td>\n",
       "      <td>White</td>\n",
       "      <td>Engineering</td>\n",
       "      <td>12</td>\n",
       "      <td>60258</td>\n",
       "      <td>99</td>\n",
       "      <td>NaN</td>\n",
       "      <td>Williams</td>\n",
       "    </tr>\n",
       "    <tr>\n",
       "      <th>Aria</th>\n",
       "      <td>Female</td>\n",
       "      <td>Black</td>\n",
       "      <td>Engineering</td>\n",
       "      <td>8</td>\n",
       "      <td>43618</td>\n",
       "      <td>99</td>\n",
       "      <td>NaN</td>\n",
       "      <td>Green</td>\n",
       "    </tr>\n",
       "    <tr>\n",
       "      <th>Sofia</th>\n",
       "      <td>Female</td>\n",
       "      <td>Black</td>\n",
       "      <td>Parks &amp; Recreation</td>\n",
       "      <td>23</td>\n",
       "      <td>26125</td>\n",
       "      <td>99</td>\n",
       "      <td>NaN</td>\n",
       "      <td>Brown</td>\n",
       "    </tr>\n",
       "    <tr>\n",
       "      <th>Dean</th>\n",
       "      <td>Male</td>\n",
       "      <td>Black</td>\n",
       "      <td>Parks &amp; Recreation</td>\n",
       "      <td>3</td>\n",
       "      <td>33592</td>\n",
       "      <td>99</td>\n",
       "      <td>NaN</td>\n",
       "      <td>NaN</td>\n",
       "    </tr>\n",
       "    <tr>\n",
       "      <th>Zach</th>\n",
       "      <td>Male</td>\n",
       "      <td>White</td>\n",
       "      <td>Parks &amp; Recreation</td>\n",
       "      <td>4</td>\n",
       "      <td>37565</td>\n",
       "      <td>99</td>\n",
       "      <td>NaN</td>\n",
       "      <td>NaN</td>\n",
       "    </tr>\n",
       "  </tbody>\n",
       "</table>\n",
       "</div>"
      ],
      "text/plain": [
       "          GENDER   RACE          DEPARTMENT  YEARS EXPERIENCE  SALARY  SCORE  \\\n",
       "Tom         Male  White         Engineering                23  107962     99   \n",
       "Niko        Male  Black         Engineering                 1   30347     99   \n",
       "Penelope  Female  White         Engineering                12   60258     99   \n",
       "Aria      Female  Black         Engineering                 8   43618     99   \n",
       "Sofia     Female  Black  Parks & Recreation                23   26125     99   \n",
       "Dean        Male  Black  Parks & Recreation                 3   33592     99   \n",
       "Zach        Male  White  Parks & Recreation                 4   37565     99   \n",
       "\n",
       "         last name LAST NAME  \n",
       "Tom            NaN     Smith  \n",
       "Niko           NaN     Jones  \n",
       "Penelope       NaN  Williams  \n",
       "Aria           NaN     Green  \n",
       "Sofia          NaN     Brown  \n",
       "Dean           NaN       NaN  \n",
       "Zach           NaN       NaN  "
      ]
     },
     "execution_count": 20,
     "metadata": {
      "tags": []
     },
     "output_type": "execute_result"
    }
   ],
   "source": [
    "df['LAST NAME'] = last_name\n",
    "df"
   ]
  },
  {
   "cell_type": "markdown",
   "metadata": {
    "colab_type": "text",
    "id": "qTCNN7leWLEw"
   },
   "source": [
    "## All missing values!\n",
    "Our attempt failed because pandas uses a completely different methodology for combining two pandas objects. \n",
    "\n",
    "## Automatic alignment of the Index\n",
    "Whenever two pandas objects are combined in some fashion the row/column index of one is aligned with the row/column index of the other. This all happens silently and implicitly behind the scenes. So if you are unaware of it, you will be completely taken by surprise.\n",
    "\n",
    "Our operation failed to add the last names because the index of our Series is the integers 0 through 6, while the index of the DataFrame are the names of the employees. There are no index values in common between the objects, so pandas defaults to NaN (Not a number).\n",
    "\n",
    "## Create a Series with same Index as DataFrame\n",
    "To use a Series to create a new column, the index must match that of the modifying DataFrame. Let's re-create our Series with the same index as the DataFrame."
   ]
  },
  {
   "cell_type": "code",
   "execution_count": 0,
   "metadata": {
    "colab": {},
    "colab_type": "code",
    "id": "Kz_P1tGkWLEx",
    "outputId": "b19300ab-817f-4e82-a2c7-4369cb2adbc0"
   },
   "outputs": [
    {
     "data": {
      "text/plain": [
       "Tom            Smith\n",
       "Niko           Jones\n",
       "Penelope    Williams\n",
       "Aria           Green\n",
       "Sofia          Brown\n",
       "Dean         Simpson\n",
       "Zach          Peters\n",
       "dtype: object"
      ]
     },
     "execution_count": 41,
     "metadata": {
      "tags": []
     },
     "output_type": "execute_result"
    }
   ],
   "source": [
    "last_name = pd.Series(data=['Smith', 'Jones', 'Williams', 'Green', 'Brown', 'Simpson', 'Peters'],\n",
    "                      index=df.index)\n",
    "last_name"
   ]
  },
  {
   "cell_type": "markdown",
   "metadata": {
    "colab_type": "text",
    "id": "EFvmRacQWLE2"
   },
   "source": [
    "Let's try that assignment again. This technically will overwrite our previous **`LAST NAME`** column"
   ]
  },
  {
   "cell_type": "code",
   "execution_count": 0,
   "metadata": {
    "colab": {},
    "colab_type": "code",
    "id": "r0vPJcw-WLE5",
    "outputId": "08b573f8-d3c8-49e1-e6aa-b7c94245d55b"
   },
   "outputs": [
    {
     "data": {
      "text/html": [
       "<div>\n",
       "<style scoped>\n",
       "    .dataframe tbody tr th:only-of-type {\n",
       "        vertical-align: middle;\n",
       "    }\n",
       "\n",
       "    .dataframe tbody tr th {\n",
       "        vertical-align: top;\n",
       "    }\n",
       "\n",
       "    .dataframe thead th {\n",
       "        text-align: right;\n",
       "    }\n",
       "</style>\n",
       "<table border=\"1\" class=\"dataframe\">\n",
       "  <thead>\n",
       "    <tr style=\"text-align: right;\">\n",
       "      <th></th>\n",
       "      <th>GENDER</th>\n",
       "      <th>RACE</th>\n",
       "      <th>DEPARTMENT</th>\n",
       "      <th>YEARS EXPERIENCE</th>\n",
       "      <th>SALARY</th>\n",
       "      <th>SCORE</th>\n",
       "      <th>last name</th>\n",
       "      <th>LAST NAME</th>\n",
       "      <th>BONUS RATE</th>\n",
       "      <th>FLOOR</th>\n",
       "    </tr>\n",
       "  </thead>\n",
       "  <tbody>\n",
       "    <tr>\n",
       "      <th>Tom</th>\n",
       "      <td>Male</td>\n",
       "      <td>White</td>\n",
       "      <td>Engineering</td>\n",
       "      <td>23</td>\n",
       "      <td>107962</td>\n",
       "      <td>99</td>\n",
       "      <td>NaN</td>\n",
       "      <td>Smith</td>\n",
       "      <td>0.20</td>\n",
       "      <td>7</td>\n",
       "    </tr>\n",
       "    <tr>\n",
       "      <th>Niko</th>\n",
       "      <td>Male</td>\n",
       "      <td>Black</td>\n",
       "      <td>Engineering</td>\n",
       "      <td>1</td>\n",
       "      <td>30347</td>\n",
       "      <td>99</td>\n",
       "      <td>NaN</td>\n",
       "      <td>Jones</td>\n",
       "      <td>0.10</td>\n",
       "      <td>5</td>\n",
       "    </tr>\n",
       "    <tr>\n",
       "      <th>Penelope</th>\n",
       "      <td>Female</td>\n",
       "      <td>White</td>\n",
       "      <td>Engineering</td>\n",
       "      <td>12</td>\n",
       "      <td>60258</td>\n",
       "      <td>99</td>\n",
       "      <td>NaN</td>\n",
       "      <td>Williams</td>\n",
       "      <td>0.00</td>\n",
       "      <td>7</td>\n",
       "    </tr>\n",
       "    <tr>\n",
       "      <th>Aria</th>\n",
       "      <td>Female</td>\n",
       "      <td>Black</td>\n",
       "      <td>Engineering</td>\n",
       "      <td>8</td>\n",
       "      <td>43618</td>\n",
       "      <td>99</td>\n",
       "      <td>NaN</td>\n",
       "      <td>Green</td>\n",
       "      <td>0.15</td>\n",
       "      <td>2</td>\n",
       "    </tr>\n",
       "    <tr>\n",
       "      <th>Sofia</th>\n",
       "      <td>Female</td>\n",
       "      <td>Black</td>\n",
       "      <td>Parks &amp; Recreation</td>\n",
       "      <td>23</td>\n",
       "      <td>26125</td>\n",
       "      <td>99</td>\n",
       "      <td>NaN</td>\n",
       "      <td>Brown</td>\n",
       "      <td>0.12</td>\n",
       "      <td>5</td>\n",
       "    </tr>\n",
       "    <tr>\n",
       "      <th>Dean</th>\n",
       "      <td>Male</td>\n",
       "      <td>Black</td>\n",
       "      <td>Parks &amp; Recreation</td>\n",
       "      <td>3</td>\n",
       "      <td>33592</td>\n",
       "      <td>99</td>\n",
       "      <td>NaN</td>\n",
       "      <td>Simpson</td>\n",
       "      <td>0.30</td>\n",
       "      <td>9</td>\n",
       "    </tr>\n",
       "    <tr>\n",
       "      <th>Zach</th>\n",
       "      <td>Male</td>\n",
       "      <td>White</td>\n",
       "      <td>Parks &amp; Recreation</td>\n",
       "      <td>4</td>\n",
       "      <td>37565</td>\n",
       "      <td>99</td>\n",
       "      <td>NaN</td>\n",
       "      <td>Peters</td>\n",
       "      <td>0.50</td>\n",
       "      <td>3</td>\n",
       "    </tr>\n",
       "  </tbody>\n",
       "</table>\n",
       "</div>"
      ],
      "text/plain": [
       "          GENDER   RACE          DEPARTMENT  YEARS EXPERIENCE  SALARY  SCORE  \\\n",
       "Tom         Male  White         Engineering                23  107962     99   \n",
       "Niko        Male  Black         Engineering                 1   30347     99   \n",
       "Penelope  Female  White         Engineering                12   60258     99   \n",
       "Aria      Female  Black         Engineering                 8   43618     99   \n",
       "Sofia     Female  Black  Parks & Recreation                23   26125     99   \n",
       "Dean        Male  Black  Parks & Recreation                 3   33592     99   \n",
       "Zach        Male  White  Parks & Recreation                 4   37565     99   \n",
       "\n",
       "         last name LAST NAME  BONUS RATE  FLOOR  \n",
       "Tom            NaN     Smith        0.20      7  \n",
       "Niko           NaN     Jones        0.10      5  \n",
       "Penelope       NaN  Williams        0.00      7  \n",
       "Aria           NaN     Green        0.15      2  \n",
       "Sofia          NaN     Brown        0.12      5  \n",
       "Dean           NaN   Simpson        0.30      9  \n",
       "Zach           NaN    Peters        0.50      3  "
      ]
     },
     "execution_count": 42,
     "metadata": {
      "tags": []
     },
     "output_type": "execute_result"
    }
   ],
   "source": [
    "df['LAST NAME'] = last_name\n",
    "df"
   ]
  },
  {
   "cell_type": "markdown",
   "metadata": {
    "colab_type": "text",
    "id": "iGXkLVwtWLE_"
   },
   "source": [
    "## Create a new column with expressions involving other columns\n",
    "We can create a new column by combining any number of other columns. One primary way of doing that is through a mathematical expression. For instance, let's create a new column **`BONUS`** by multiplying the **`BONUS RATE`** and **`SALARY`** columns together.\n",
    "\n",
    "## Output before assignment\n",
    "Before adding this new column to your DataFrame, you might want to consider viewing the output before making the assignment. This gives you a little preview so that you can check your work before doing the more permanent assignment.\n",
    "\n",
    "Let's multiple our two columns without assignment:"
   ]
  },
  {
   "cell_type": "code",
   "execution_count": 0,
   "metadata": {
    "colab": {},
    "colab_type": "code",
    "id": "H6ER3GpoWLFA",
    "outputId": "36e5d27f-4299-4693-a156-1df7f882ab7f"
   },
   "outputs": [
    {
     "data": {
      "text/plain": [
       "Tom         21592.4\n",
       "Niko         3034.7\n",
       "Penelope        0.0\n",
       "Aria         6542.7\n",
       "Sofia        3135.0\n",
       "Dean        10077.6\n",
       "Zach        18782.5\n",
       "dtype: float64"
      ]
     },
     "execution_count": 43,
     "metadata": {
      "tags": []
     },
     "output_type": "execute_result"
    }
   ],
   "source": [
    "df['BONUS RATE'] * df['SALARY']"
   ]
  },
  {
   "cell_type": "markdown",
   "metadata": {
    "colab_type": "text",
    "id": "A1lwJVPAWLFD"
   },
   "source": [
    "Everything appears to be OK, so go ahead and make the assignment. Notice that the output is a Series with index the same as the DataFrame."
   ]
  },
  {
   "cell_type": "code",
   "execution_count": 0,
   "metadata": {
    "colab": {},
    "colab_type": "code",
    "id": "hAr5yK9CWLFE",
    "outputId": "f1a5e9e2-52cb-483e-a8d6-7f7581858318"
   },
   "outputs": [
    {
     "data": {
      "text/html": [
       "<div>\n",
       "<style scoped>\n",
       "    .dataframe tbody tr th:only-of-type {\n",
       "        vertical-align: middle;\n",
       "    }\n",
       "\n",
       "    .dataframe tbody tr th {\n",
       "        vertical-align: top;\n",
       "    }\n",
       "\n",
       "    .dataframe thead th {\n",
       "        text-align: right;\n",
       "    }\n",
       "</style>\n",
       "<table border=\"1\" class=\"dataframe\">\n",
       "  <thead>\n",
       "    <tr style=\"text-align: right;\">\n",
       "      <th></th>\n",
       "      <th>GENDER</th>\n",
       "      <th>RACE</th>\n",
       "      <th>DEPARTMENT</th>\n",
       "      <th>YEARS EXPERIENCE</th>\n",
       "      <th>SALARY</th>\n",
       "      <th>SCORE</th>\n",
       "      <th>last name</th>\n",
       "      <th>LAST NAME</th>\n",
       "      <th>BONUS RATE</th>\n",
       "      <th>FLOOR</th>\n",
       "      <th>BONUS</th>\n",
       "    </tr>\n",
       "  </thead>\n",
       "  <tbody>\n",
       "    <tr>\n",
       "      <th>Tom</th>\n",
       "      <td>Male</td>\n",
       "      <td>White</td>\n",
       "      <td>Engineering</td>\n",
       "      <td>23</td>\n",
       "      <td>107962</td>\n",
       "      <td>99</td>\n",
       "      <td>NaN</td>\n",
       "      <td>Smith</td>\n",
       "      <td>0.20</td>\n",
       "      <td>7</td>\n",
       "      <td>21592.4</td>\n",
       "    </tr>\n",
       "    <tr>\n",
       "      <th>Niko</th>\n",
       "      <td>Male</td>\n",
       "      <td>Black</td>\n",
       "      <td>Engineering</td>\n",
       "      <td>1</td>\n",
       "      <td>30347</td>\n",
       "      <td>99</td>\n",
       "      <td>NaN</td>\n",
       "      <td>Jones</td>\n",
       "      <td>0.10</td>\n",
       "      <td>5</td>\n",
       "      <td>3034.7</td>\n",
       "    </tr>\n",
       "    <tr>\n",
       "      <th>Penelope</th>\n",
       "      <td>Female</td>\n",
       "      <td>White</td>\n",
       "      <td>Engineering</td>\n",
       "      <td>12</td>\n",
       "      <td>60258</td>\n",
       "      <td>99</td>\n",
       "      <td>NaN</td>\n",
       "      <td>Williams</td>\n",
       "      <td>0.00</td>\n",
       "      <td>7</td>\n",
       "      <td>0.0</td>\n",
       "    </tr>\n",
       "    <tr>\n",
       "      <th>Aria</th>\n",
       "      <td>Female</td>\n",
       "      <td>Black</td>\n",
       "      <td>Engineering</td>\n",
       "      <td>8</td>\n",
       "      <td>43618</td>\n",
       "      <td>99</td>\n",
       "      <td>NaN</td>\n",
       "      <td>Green</td>\n",
       "      <td>0.15</td>\n",
       "      <td>2</td>\n",
       "      <td>6542.7</td>\n",
       "    </tr>\n",
       "    <tr>\n",
       "      <th>Sofia</th>\n",
       "      <td>Female</td>\n",
       "      <td>Black</td>\n",
       "      <td>Parks &amp; Recreation</td>\n",
       "      <td>23</td>\n",
       "      <td>26125</td>\n",
       "      <td>99</td>\n",
       "      <td>NaN</td>\n",
       "      <td>Brown</td>\n",
       "      <td>0.12</td>\n",
       "      <td>5</td>\n",
       "      <td>3135.0</td>\n",
       "    </tr>\n",
       "    <tr>\n",
       "      <th>Dean</th>\n",
       "      <td>Male</td>\n",
       "      <td>Black</td>\n",
       "      <td>Parks &amp; Recreation</td>\n",
       "      <td>3</td>\n",
       "      <td>33592</td>\n",
       "      <td>99</td>\n",
       "      <td>NaN</td>\n",
       "      <td>Simpson</td>\n",
       "      <td>0.30</td>\n",
       "      <td>9</td>\n",
       "      <td>10077.6</td>\n",
       "    </tr>\n",
       "    <tr>\n",
       "      <th>Zach</th>\n",
       "      <td>Male</td>\n",
       "      <td>White</td>\n",
       "      <td>Parks &amp; Recreation</td>\n",
       "      <td>4</td>\n",
       "      <td>37565</td>\n",
       "      <td>99</td>\n",
       "      <td>NaN</td>\n",
       "      <td>Peters</td>\n",
       "      <td>0.50</td>\n",
       "      <td>3</td>\n",
       "      <td>18782.5</td>\n",
       "    </tr>\n",
       "  </tbody>\n",
       "</table>\n",
       "</div>"
      ],
      "text/plain": [
       "          GENDER   RACE          DEPARTMENT  YEARS EXPERIENCE  SALARY  SCORE  \\\n",
       "Tom         Male  White         Engineering                23  107962     99   \n",
       "Niko        Male  Black         Engineering                 1   30347     99   \n",
       "Penelope  Female  White         Engineering                12   60258     99   \n",
       "Aria      Female  Black         Engineering                 8   43618     99   \n",
       "Sofia     Female  Black  Parks & Recreation                23   26125     99   \n",
       "Dean        Male  Black  Parks & Recreation                 3   33592     99   \n",
       "Zach        Male  White  Parks & Recreation                 4   37565     99   \n",
       "\n",
       "         last name LAST NAME  BONUS RATE  FLOOR    BONUS  \n",
       "Tom            NaN     Smith        0.20      7  21592.4  \n",
       "Niko           NaN     Jones        0.10      5   3034.7  \n",
       "Penelope       NaN  Williams        0.00      7      0.0  \n",
       "Aria           NaN     Green        0.15      2   6542.7  \n",
       "Sofia          NaN     Brown        0.12      5   3135.0  \n",
       "Dean           NaN   Simpson        0.30      9  10077.6  \n",
       "Zach           NaN    Peters        0.50      3  18782.5  "
      ]
     },
     "execution_count": 44,
     "metadata": {
      "tags": []
     },
     "output_type": "execute_result"
    }
   ],
   "source": [
    "df['BONUS'] = df['BONUS RATE'] * df['SALARY']\n",
    "df"
   ]
  },
  {
   "cell_type": "markdown",
   "metadata": {
    "colab_type": "text",
    "id": "Z1dVYUzUWLFG"
   },
   "source": [
    "# Actual Subset Assignment\n",
    "So far, we have just added new columns to our DataFrame. We did not change any of the pre-existing values. Let's begin doing this by changing each person's **`SCORE`** to 100.\n",
    "\n",
    "The syntax is the same, whether it's adding a new column or changing an existing column:"
   ]
  },
  {
   "cell_type": "code",
   "execution_count": 0,
   "metadata": {
    "colab": {},
    "colab_type": "code",
    "id": "k04SPRA8WLFH",
    "outputId": "c1b2c2fa-b857-4a94-f70c-c31ab1d01b49"
   },
   "outputs": [
    {
     "data": {
      "text/html": [
       "<div>\n",
       "<style scoped>\n",
       "    .dataframe tbody tr th:only-of-type {\n",
       "        vertical-align: middle;\n",
       "    }\n",
       "\n",
       "    .dataframe tbody tr th {\n",
       "        vertical-align: top;\n",
       "    }\n",
       "\n",
       "    .dataframe thead th {\n",
       "        text-align: right;\n",
       "    }\n",
       "</style>\n",
       "<table border=\"1\" class=\"dataframe\">\n",
       "  <thead>\n",
       "    <tr style=\"text-align: right;\">\n",
       "      <th></th>\n",
       "      <th>GENDER</th>\n",
       "      <th>RACE</th>\n",
       "      <th>DEPARTMENT</th>\n",
       "      <th>YEARS EXPERIENCE</th>\n",
       "      <th>SALARY</th>\n",
       "      <th>SCORE</th>\n",
       "      <th>last name</th>\n",
       "      <th>LAST NAME</th>\n",
       "      <th>BONUS RATE</th>\n",
       "      <th>FLOOR</th>\n",
       "      <th>BONUS</th>\n",
       "    </tr>\n",
       "  </thead>\n",
       "  <tbody>\n",
       "    <tr>\n",
       "      <th>Tom</th>\n",
       "      <td>Male</td>\n",
       "      <td>White</td>\n",
       "      <td>Engineering</td>\n",
       "      <td>23</td>\n",
       "      <td>107962</td>\n",
       "      <td>100</td>\n",
       "      <td>NaN</td>\n",
       "      <td>Smith</td>\n",
       "      <td>0.20</td>\n",
       "      <td>7</td>\n",
       "      <td>21592.4</td>\n",
       "    </tr>\n",
       "    <tr>\n",
       "      <th>Niko</th>\n",
       "      <td>Male</td>\n",
       "      <td>Black</td>\n",
       "      <td>Engineering</td>\n",
       "      <td>1</td>\n",
       "      <td>30347</td>\n",
       "      <td>100</td>\n",
       "      <td>NaN</td>\n",
       "      <td>Jones</td>\n",
       "      <td>0.10</td>\n",
       "      <td>5</td>\n",
       "      <td>3034.7</td>\n",
       "    </tr>\n",
       "    <tr>\n",
       "      <th>Penelope</th>\n",
       "      <td>Female</td>\n",
       "      <td>White</td>\n",
       "      <td>Engineering</td>\n",
       "      <td>12</td>\n",
       "      <td>60258</td>\n",
       "      <td>100</td>\n",
       "      <td>NaN</td>\n",
       "      <td>Williams</td>\n",
       "      <td>0.00</td>\n",
       "      <td>7</td>\n",
       "      <td>0.0</td>\n",
       "    </tr>\n",
       "    <tr>\n",
       "      <th>Aria</th>\n",
       "      <td>Female</td>\n",
       "      <td>Black</td>\n",
       "      <td>Engineering</td>\n",
       "      <td>8</td>\n",
       "      <td>43618</td>\n",
       "      <td>100</td>\n",
       "      <td>NaN</td>\n",
       "      <td>Green</td>\n",
       "      <td>0.15</td>\n",
       "      <td>2</td>\n",
       "      <td>6542.7</td>\n",
       "    </tr>\n",
       "    <tr>\n",
       "      <th>Sofia</th>\n",
       "      <td>Female</td>\n",
       "      <td>Black</td>\n",
       "      <td>Parks &amp; Recreation</td>\n",
       "      <td>23</td>\n",
       "      <td>26125</td>\n",
       "      <td>100</td>\n",
       "      <td>NaN</td>\n",
       "      <td>Brown</td>\n",
       "      <td>0.12</td>\n",
       "      <td>5</td>\n",
       "      <td>3135.0</td>\n",
       "    </tr>\n",
       "    <tr>\n",
       "      <th>Dean</th>\n",
       "      <td>Male</td>\n",
       "      <td>Black</td>\n",
       "      <td>Parks &amp; Recreation</td>\n",
       "      <td>3</td>\n",
       "      <td>33592</td>\n",
       "      <td>100</td>\n",
       "      <td>NaN</td>\n",
       "      <td>Simpson</td>\n",
       "      <td>0.30</td>\n",
       "      <td>9</td>\n",
       "      <td>10077.6</td>\n",
       "    </tr>\n",
       "    <tr>\n",
       "      <th>Zach</th>\n",
       "      <td>Male</td>\n",
       "      <td>White</td>\n",
       "      <td>Parks &amp; Recreation</td>\n",
       "      <td>4</td>\n",
       "      <td>37565</td>\n",
       "      <td>100</td>\n",
       "      <td>NaN</td>\n",
       "      <td>Peters</td>\n",
       "      <td>0.50</td>\n",
       "      <td>3</td>\n",
       "      <td>18782.5</td>\n",
       "    </tr>\n",
       "  </tbody>\n",
       "</table>\n",
       "</div>"
      ],
      "text/plain": [
       "          GENDER   RACE          DEPARTMENT  YEARS EXPERIENCE  SALARY  SCORE  \\\n",
       "Tom         Male  White         Engineering                23  107962    100   \n",
       "Niko        Male  Black         Engineering                 1   30347    100   \n",
       "Penelope  Female  White         Engineering                12   60258    100   \n",
       "Aria      Female  Black         Engineering                 8   43618    100   \n",
       "Sofia     Female  Black  Parks & Recreation                23   26125    100   \n",
       "Dean        Male  Black  Parks & Recreation                 3   33592    100   \n",
       "Zach        Male  White  Parks & Recreation                 4   37565    100   \n",
       "\n",
       "         last name LAST NAME  BONUS RATE  FLOOR    BONUS  \n",
       "Tom            NaN     Smith        0.20      7  21592.4  \n",
       "Niko           NaN     Jones        0.10      5   3034.7  \n",
       "Penelope       NaN  Williams        0.00      7      0.0  \n",
       "Aria           NaN     Green        0.15      2   6542.7  \n",
       "Sofia          NaN     Brown        0.12      5   3135.0  \n",
       "Dean           NaN   Simpson        0.30      9  10077.6  \n",
       "Zach           NaN    Peters        0.50      3  18782.5  "
      ]
     },
     "execution_count": 45,
     "metadata": {
      "tags": []
     },
     "output_type": "execute_result"
    }
   ],
   "source": [
    "df['SCORE'] = 100\n",
    "df"
   ]
  },
  {
   "cell_type": "markdown",
   "metadata": {
    "colab_type": "text",
    "id": "1sInCA3EWLFK"
   },
   "source": [
    "## Overwriting the same column\n",
    "You can use the column itself you are assigning in the expression on the right-hand side of the equal sign. For instance, if we want to remove the ugly decimals from the **`BONUS`** column, we can call the **`astype`** method on it and assign it to itself."
   ]
  },
  {
   "cell_type": "code",
   "execution_count": 0,
   "metadata": {
    "colab": {},
    "colab_type": "code",
    "id": "meNovwnpWLFL",
    "outputId": "f89561f0-87ec-480a-d9b3-0bf289f9f426"
   },
   "outputs": [
    {
     "data": {
      "text/html": [
       "<div>\n",
       "<style scoped>\n",
       "    .dataframe tbody tr th:only-of-type {\n",
       "        vertical-align: middle;\n",
       "    }\n",
       "\n",
       "    .dataframe tbody tr th {\n",
       "        vertical-align: top;\n",
       "    }\n",
       "\n",
       "    .dataframe thead th {\n",
       "        text-align: right;\n",
       "    }\n",
       "</style>\n",
       "<table border=\"1\" class=\"dataframe\">\n",
       "  <thead>\n",
       "    <tr style=\"text-align: right;\">\n",
       "      <th></th>\n",
       "      <th>GENDER</th>\n",
       "      <th>RACE</th>\n",
       "      <th>DEPARTMENT</th>\n",
       "      <th>YEARS EXPERIENCE</th>\n",
       "      <th>SALARY</th>\n",
       "      <th>SCORE</th>\n",
       "      <th>last name</th>\n",
       "      <th>LAST NAME</th>\n",
       "      <th>BONUS RATE</th>\n",
       "      <th>FLOOR</th>\n",
       "      <th>BONUS</th>\n",
       "    </tr>\n",
       "  </thead>\n",
       "  <tbody>\n",
       "    <tr>\n",
       "      <th>Tom</th>\n",
       "      <td>Male</td>\n",
       "      <td>White</td>\n",
       "      <td>Engineering</td>\n",
       "      <td>23</td>\n",
       "      <td>107962</td>\n",
       "      <td>100</td>\n",
       "      <td>NaN</td>\n",
       "      <td>Smith</td>\n",
       "      <td>0.20</td>\n",
       "      <td>7</td>\n",
       "      <td>21592</td>\n",
       "    </tr>\n",
       "    <tr>\n",
       "      <th>Niko</th>\n",
       "      <td>Male</td>\n",
       "      <td>Black</td>\n",
       "      <td>Engineering</td>\n",
       "      <td>1</td>\n",
       "      <td>30347</td>\n",
       "      <td>100</td>\n",
       "      <td>NaN</td>\n",
       "      <td>Jones</td>\n",
       "      <td>0.10</td>\n",
       "      <td>5</td>\n",
       "      <td>3034</td>\n",
       "    </tr>\n",
       "    <tr>\n",
       "      <th>Penelope</th>\n",
       "      <td>Female</td>\n",
       "      <td>White</td>\n",
       "      <td>Engineering</td>\n",
       "      <td>12</td>\n",
       "      <td>60258</td>\n",
       "      <td>100</td>\n",
       "      <td>NaN</td>\n",
       "      <td>Williams</td>\n",
       "      <td>0.00</td>\n",
       "      <td>7</td>\n",
       "      <td>0</td>\n",
       "    </tr>\n",
       "    <tr>\n",
       "      <th>Aria</th>\n",
       "      <td>Female</td>\n",
       "      <td>Black</td>\n",
       "      <td>Engineering</td>\n",
       "      <td>8</td>\n",
       "      <td>43618</td>\n",
       "      <td>100</td>\n",
       "      <td>NaN</td>\n",
       "      <td>Green</td>\n",
       "      <td>0.15</td>\n",
       "      <td>2</td>\n",
       "      <td>6542</td>\n",
       "    </tr>\n",
       "    <tr>\n",
       "      <th>Sofia</th>\n",
       "      <td>Female</td>\n",
       "      <td>Black</td>\n",
       "      <td>Parks &amp; Recreation</td>\n",
       "      <td>23</td>\n",
       "      <td>26125</td>\n",
       "      <td>100</td>\n",
       "      <td>NaN</td>\n",
       "      <td>Brown</td>\n",
       "      <td>0.12</td>\n",
       "      <td>5</td>\n",
       "      <td>3135</td>\n",
       "    </tr>\n",
       "    <tr>\n",
       "      <th>Dean</th>\n",
       "      <td>Male</td>\n",
       "      <td>Black</td>\n",
       "      <td>Parks &amp; Recreation</td>\n",
       "      <td>3</td>\n",
       "      <td>33592</td>\n",
       "      <td>100</td>\n",
       "      <td>NaN</td>\n",
       "      <td>Simpson</td>\n",
       "      <td>0.30</td>\n",
       "      <td>9</td>\n",
       "      <td>10077</td>\n",
       "    </tr>\n",
       "    <tr>\n",
       "      <th>Zach</th>\n",
       "      <td>Male</td>\n",
       "      <td>White</td>\n",
       "      <td>Parks &amp; Recreation</td>\n",
       "      <td>4</td>\n",
       "      <td>37565</td>\n",
       "      <td>100</td>\n",
       "      <td>NaN</td>\n",
       "      <td>Peters</td>\n",
       "      <td>0.50</td>\n",
       "      <td>3</td>\n",
       "      <td>18782</td>\n",
       "    </tr>\n",
       "  </tbody>\n",
       "</table>\n",
       "</div>"
      ],
      "text/plain": [
       "          GENDER   RACE          DEPARTMENT  YEARS EXPERIENCE  SALARY  SCORE  \\\n",
       "Tom         Male  White         Engineering                23  107962    100   \n",
       "Niko        Male  Black         Engineering                 1   30347    100   \n",
       "Penelope  Female  White         Engineering                12   60258    100   \n",
       "Aria      Female  Black         Engineering                 8   43618    100   \n",
       "Sofia     Female  Black  Parks & Recreation                23   26125    100   \n",
       "Dean        Male  Black  Parks & Recreation                 3   33592    100   \n",
       "Zach        Male  White  Parks & Recreation                 4   37565    100   \n",
       "\n",
       "         last name LAST NAME  BONUS RATE  FLOOR  BONUS  \n",
       "Tom            NaN     Smith        0.20      7  21592  \n",
       "Niko           NaN     Jones        0.10      5   3034  \n",
       "Penelope       NaN  Williams        0.00      7      0  \n",
       "Aria           NaN     Green        0.15      2   6542  \n",
       "Sofia          NaN     Brown        0.12      5   3135  \n",
       "Dean           NaN   Simpson        0.30      9  10077  \n",
       "Zach           NaN    Peters        0.50      3  18782  "
      ]
     },
     "execution_count": 46,
     "metadata": {
      "tags": []
     },
     "output_type": "execute_result"
    }
   ],
   "source": [
    "df['BONUS'] = df['BONUS'].astype(int)\n",
    "df"
   ]
  },
  {
   "cell_type": "markdown",
   "metadata": {
    "colab_type": "text",
    "id": "oZWYew7vWLFO"
   },
   "source": [
    "## Assigning a subset of rows within a single column\n",
    "Now that we can change all the values in a single at once, let's learn how to change just a subset of them.\n",
    "\n",
    "For instance, let's change the **`FLOOR`** for **`Niko`**, **`Penelope`**, and **`Aria`**. Before doing so, let's remember how to make that subset selection with **`.loc`**:"
   ]
  },
  {
   "cell_type": "code",
   "execution_count": 0,
   "metadata": {
    "colab": {},
    "colab_type": "code",
    "id": "Kbg9uTtrWLFO",
    "outputId": "3aab183c-ae9c-449d-bbc7-7334f930542d"
   },
   "outputs": [
    {
     "data": {
      "text/html": [
       "<div>\n",
       "<style scoped>\n",
       "    .dataframe tbody tr th:only-of-type {\n",
       "        vertical-align: middle;\n",
       "    }\n",
       "\n",
       "    .dataframe tbody tr th {\n",
       "        vertical-align: top;\n",
       "    }\n",
       "\n",
       "    .dataframe thead th {\n",
       "        text-align: right;\n",
       "    }\n",
       "</style>\n",
       "<table border=\"1\" class=\"dataframe\">\n",
       "  <thead>\n",
       "    <tr style=\"text-align: right;\">\n",
       "      <th></th>\n",
       "      <th>FLOOR</th>\n",
       "    </tr>\n",
       "  </thead>\n",
       "  <tbody>\n",
       "    <tr>\n",
       "      <th>Niko</th>\n",
       "      <td>5</td>\n",
       "    </tr>\n",
       "    <tr>\n",
       "      <th>Penelope</th>\n",
       "      <td>7</td>\n",
       "    </tr>\n",
       "    <tr>\n",
       "      <th>Aria</th>\n",
       "      <td>2</td>\n",
       "    </tr>\n",
       "  </tbody>\n",
       "</table>\n",
       "</div>"
      ],
      "text/plain": [
       "          FLOOR\n",
       "Niko          5\n",
       "Penelope      7\n",
       "Aria          2"
      ]
     },
     "execution_count": 47,
     "metadata": {
      "tags": []
     },
     "output_type": "execute_result"
    }
   ],
   "source": [
    "df.loc[['Niko', 'Penelope', 'Aria'], ['FLOOR']] "
   ]
  },
  {
   "cell_type": "markdown",
   "metadata": {
    "colab_type": "text",
    "id": "-gQY_ywIWLFR"
   },
   "source": [
    "The **`.loc`** indexer allows for row and column selection separated by a comma. It only makes selections based on row/column **labels**. Once we have correctly selected our subset, let's assign it a list of three new integers"
   ]
  },
  {
   "cell_type": "code",
   "execution_count": 0,
   "metadata": {
    "colab": {},
    "colab_type": "code",
    "id": "yF3mUaw0WLFS",
    "outputId": "b9d8dff2-2001-4ed4-90f2-95b83f9819e0"
   },
   "outputs": [
    {
     "data": {
      "text/html": [
       "<div>\n",
       "<style scoped>\n",
       "    .dataframe tbody tr th:only-of-type {\n",
       "        vertical-align: middle;\n",
       "    }\n",
       "\n",
       "    .dataframe tbody tr th {\n",
       "        vertical-align: top;\n",
       "    }\n",
       "\n",
       "    .dataframe thead th {\n",
       "        text-align: right;\n",
       "    }\n",
       "</style>\n",
       "<table border=\"1\" class=\"dataframe\">\n",
       "  <thead>\n",
       "    <tr style=\"text-align: right;\">\n",
       "      <th></th>\n",
       "      <th>GENDER</th>\n",
       "      <th>RACE</th>\n",
       "      <th>DEPARTMENT</th>\n",
       "      <th>YEARS EXPERIENCE</th>\n",
       "      <th>SALARY</th>\n",
       "      <th>SCORE</th>\n",
       "      <th>last name</th>\n",
       "      <th>LAST NAME</th>\n",
       "      <th>BONUS RATE</th>\n",
       "      <th>FLOOR</th>\n",
       "      <th>BONUS</th>\n",
       "    </tr>\n",
       "  </thead>\n",
       "  <tbody>\n",
       "    <tr>\n",
       "      <th>Tom</th>\n",
       "      <td>Male</td>\n",
       "      <td>White</td>\n",
       "      <td>Engineering</td>\n",
       "      <td>23</td>\n",
       "      <td>107962</td>\n",
       "      <td>100</td>\n",
       "      <td>NaN</td>\n",
       "      <td>Smith</td>\n",
       "      <td>0.20</td>\n",
       "      <td>7</td>\n",
       "      <td>21592</td>\n",
       "    </tr>\n",
       "    <tr>\n",
       "      <th>Niko</th>\n",
       "      <td>Male</td>\n",
       "      <td>Black</td>\n",
       "      <td>Engineering</td>\n",
       "      <td>1</td>\n",
       "      <td>30347</td>\n",
       "      <td>100</td>\n",
       "      <td>NaN</td>\n",
       "      <td>Jones</td>\n",
       "      <td>0.10</td>\n",
       "      <td>3</td>\n",
       "      <td>3034</td>\n",
       "    </tr>\n",
       "    <tr>\n",
       "      <th>Penelope</th>\n",
       "      <td>Female</td>\n",
       "      <td>White</td>\n",
       "      <td>Engineering</td>\n",
       "      <td>12</td>\n",
       "      <td>60258</td>\n",
       "      <td>100</td>\n",
       "      <td>NaN</td>\n",
       "      <td>Williams</td>\n",
       "      <td>0.00</td>\n",
       "      <td>6</td>\n",
       "      <td>0</td>\n",
       "    </tr>\n",
       "    <tr>\n",
       "      <th>Aria</th>\n",
       "      <td>Female</td>\n",
       "      <td>Black</td>\n",
       "      <td>Engineering</td>\n",
       "      <td>8</td>\n",
       "      <td>43618</td>\n",
       "      <td>100</td>\n",
       "      <td>NaN</td>\n",
       "      <td>Green</td>\n",
       "      <td>0.15</td>\n",
       "      <td>4</td>\n",
       "      <td>6542</td>\n",
       "    </tr>\n",
       "    <tr>\n",
       "      <th>Sofia</th>\n",
       "      <td>Female</td>\n",
       "      <td>Black</td>\n",
       "      <td>Parks &amp; Recreation</td>\n",
       "      <td>23</td>\n",
       "      <td>26125</td>\n",
       "      <td>100</td>\n",
       "      <td>NaN</td>\n",
       "      <td>Brown</td>\n",
       "      <td>0.12</td>\n",
       "      <td>5</td>\n",
       "      <td>3135</td>\n",
       "    </tr>\n",
       "    <tr>\n",
       "      <th>Dean</th>\n",
       "      <td>Male</td>\n",
       "      <td>Black</td>\n",
       "      <td>Parks &amp; Recreation</td>\n",
       "      <td>3</td>\n",
       "      <td>33592</td>\n",
       "      <td>100</td>\n",
       "      <td>NaN</td>\n",
       "      <td>Simpson</td>\n",
       "      <td>0.30</td>\n",
       "      <td>9</td>\n",
       "      <td>10077</td>\n",
       "    </tr>\n",
       "    <tr>\n",
       "      <th>Zach</th>\n",
       "      <td>Male</td>\n",
       "      <td>White</td>\n",
       "      <td>Parks &amp; Recreation</td>\n",
       "      <td>4</td>\n",
       "      <td>37565</td>\n",
       "      <td>100</td>\n",
       "      <td>NaN</td>\n",
       "      <td>Peters</td>\n",
       "      <td>0.50</td>\n",
       "      <td>3</td>\n",
       "      <td>18782</td>\n",
       "    </tr>\n",
       "  </tbody>\n",
       "</table>\n",
       "</div>"
      ],
      "text/plain": [
       "          GENDER   RACE          DEPARTMENT  YEARS EXPERIENCE  SALARY  SCORE  \\\n",
       "Tom         Male  White         Engineering                23  107962    100   \n",
       "Niko        Male  Black         Engineering                 1   30347    100   \n",
       "Penelope  Female  White         Engineering                12   60258    100   \n",
       "Aria      Female  Black         Engineering                 8   43618    100   \n",
       "Sofia     Female  Black  Parks & Recreation                23   26125    100   \n",
       "Dean        Male  Black  Parks & Recreation                 3   33592    100   \n",
       "Zach        Male  White  Parks & Recreation                 4   37565    100   \n",
       "\n",
       "         last name LAST NAME  BONUS RATE  FLOOR  BONUS  \n",
       "Tom            NaN     Smith        0.20      7  21592  \n",
       "Niko           NaN     Jones        0.10      3   3034  \n",
       "Penelope       NaN  Williams        0.00      6      0  \n",
       "Aria           NaN     Green        0.15      4   6542  \n",
       "Sofia          NaN     Brown        0.12      5   3135  \n",
       "Dean           NaN   Simpson        0.30      9  10077  \n",
       "Zach           NaN    Peters        0.50      3  18782  "
      ]
     },
     "execution_count": 48,
     "metadata": {
      "tags": []
     },
     "output_type": "execute_result"
    }
   ],
   "source": [
    "df.loc[['Niko', 'Penelope', 'Aria'], 'FLOOR'] = [3, 6, 4]\n",
    "df"
   ]
  },
  {
   "cell_type": "markdown",
   "metadata": {
    "colab_type": "text",
    "id": "8CPUV5JSWLFV"
   },
   "source": [
    "## Assigning subsets with `.iloc`\n",
    "Similarly, we can use the **`.iloc`** indexer which only makes selections via **`integer location`**.\n",
    "\n",
    "Let's assign the 3rd - 6th rows of the **`SCORE`** column (integer location 5) with the value 99."
   ]
  },
  {
   "cell_type": "code",
   "execution_count": 0,
   "metadata": {
    "colab": {},
    "colab_type": "code",
    "id": "dAMRp_-cWLFX"
   },
   "outputs": [],
   "source": [
    "df.iloc[3:6, 5] = 99"
   ]
  },
  {
   "cell_type": "code",
   "execution_count": 0,
   "metadata": {
    "colab": {},
    "colab_type": "code",
    "id": "YQjJ6Qx7WLFZ",
    "outputId": "7bb40676-7f51-4313-d0f8-e8572b6d7e02"
   },
   "outputs": [
    {
     "data": {
      "text/html": [
       "<div>\n",
       "<style scoped>\n",
       "    .dataframe tbody tr th:only-of-type {\n",
       "        vertical-align: middle;\n",
       "    }\n",
       "\n",
       "    .dataframe tbody tr th {\n",
       "        vertical-align: top;\n",
       "    }\n",
       "\n",
       "    .dataframe thead th {\n",
       "        text-align: right;\n",
       "    }\n",
       "</style>\n",
       "<table border=\"1\" class=\"dataframe\">\n",
       "  <thead>\n",
       "    <tr style=\"text-align: right;\">\n",
       "      <th></th>\n",
       "      <th>GENDER</th>\n",
       "      <th>RACE</th>\n",
       "      <th>DEPARTMENT</th>\n",
       "      <th>YEARS EXPERIENCE</th>\n",
       "      <th>SALARY</th>\n",
       "      <th>SCORE</th>\n",
       "      <th>last name</th>\n",
       "      <th>LAST NAME</th>\n",
       "      <th>BONUS RATE</th>\n",
       "      <th>FLOOR</th>\n",
       "      <th>BONUS</th>\n",
       "    </tr>\n",
       "  </thead>\n",
       "  <tbody>\n",
       "    <tr>\n",
       "      <th>Tom</th>\n",
       "      <td>Male</td>\n",
       "      <td>White</td>\n",
       "      <td>Engineering</td>\n",
       "      <td>23</td>\n",
       "      <td>107962</td>\n",
       "      <td>100</td>\n",
       "      <td>NaN</td>\n",
       "      <td>Smith</td>\n",
       "      <td>0.20</td>\n",
       "      <td>7</td>\n",
       "      <td>21592</td>\n",
       "    </tr>\n",
       "    <tr>\n",
       "      <th>Niko</th>\n",
       "      <td>Male</td>\n",
       "      <td>Black</td>\n",
       "      <td>Engineering</td>\n",
       "      <td>1</td>\n",
       "      <td>30347</td>\n",
       "      <td>100</td>\n",
       "      <td>NaN</td>\n",
       "      <td>Jones</td>\n",
       "      <td>0.10</td>\n",
       "      <td>3</td>\n",
       "      <td>3034</td>\n",
       "    </tr>\n",
       "    <tr>\n",
       "      <th>Penelope</th>\n",
       "      <td>Female</td>\n",
       "      <td>White</td>\n",
       "      <td>Engineering</td>\n",
       "      <td>12</td>\n",
       "      <td>60258</td>\n",
       "      <td>100</td>\n",
       "      <td>NaN</td>\n",
       "      <td>Williams</td>\n",
       "      <td>0.00</td>\n",
       "      <td>6</td>\n",
       "      <td>0</td>\n",
       "    </tr>\n",
       "    <tr>\n",
       "      <th>Aria</th>\n",
       "      <td>Female</td>\n",
       "      <td>Black</td>\n",
       "      <td>Engineering</td>\n",
       "      <td>8</td>\n",
       "      <td>43618</td>\n",
       "      <td>99</td>\n",
       "      <td>NaN</td>\n",
       "      <td>Green</td>\n",
       "      <td>0.15</td>\n",
       "      <td>4</td>\n",
       "      <td>6542</td>\n",
       "    </tr>\n",
       "    <tr>\n",
       "      <th>Sofia</th>\n",
       "      <td>Female</td>\n",
       "      <td>Black</td>\n",
       "      <td>Parks &amp; Recreation</td>\n",
       "      <td>23</td>\n",
       "      <td>26125</td>\n",
       "      <td>99</td>\n",
       "      <td>NaN</td>\n",
       "      <td>Brown</td>\n",
       "      <td>0.12</td>\n",
       "      <td>5</td>\n",
       "      <td>3135</td>\n",
       "    </tr>\n",
       "    <tr>\n",
       "      <th>Dean</th>\n",
       "      <td>Male</td>\n",
       "      <td>Black</td>\n",
       "      <td>Parks &amp; Recreation</td>\n",
       "      <td>3</td>\n",
       "      <td>33592</td>\n",
       "      <td>99</td>\n",
       "      <td>NaN</td>\n",
       "      <td>Simpson</td>\n",
       "      <td>0.30</td>\n",
       "      <td>9</td>\n",
       "      <td>10077</td>\n",
       "    </tr>\n",
       "    <tr>\n",
       "      <th>Zach</th>\n",
       "      <td>Male</td>\n",
       "      <td>White</td>\n",
       "      <td>Parks &amp; Recreation</td>\n",
       "      <td>4</td>\n",
       "      <td>37565</td>\n",
       "      <td>100</td>\n",
       "      <td>NaN</td>\n",
       "      <td>Peters</td>\n",
       "      <td>0.50</td>\n",
       "      <td>3</td>\n",
       "      <td>18782</td>\n",
       "    </tr>\n",
       "  </tbody>\n",
       "</table>\n",
       "</div>"
      ],
      "text/plain": [
       "          GENDER   RACE          DEPARTMENT  YEARS EXPERIENCE  SALARY  SCORE  \\\n",
       "Tom         Male  White         Engineering                23  107962    100   \n",
       "Niko        Male  Black         Engineering                 1   30347    100   \n",
       "Penelope  Female  White         Engineering                12   60258    100   \n",
       "Aria      Female  Black         Engineering                 8   43618     99   \n",
       "Sofia     Female  Black  Parks & Recreation                23   26125     99   \n",
       "Dean        Male  Black  Parks & Recreation                 3   33592     99   \n",
       "Zach        Male  White  Parks & Recreation                 4   37565    100   \n",
       "\n",
       "         last name LAST NAME  BONUS RATE  FLOOR  BONUS  \n",
       "Tom            NaN     Smith        0.20      7  21592  \n",
       "Niko           NaN     Jones        0.10      3   3034  \n",
       "Penelope       NaN  Williams        0.00      6      0  \n",
       "Aria           NaN     Green        0.15      4   6542  \n",
       "Sofia          NaN     Brown        0.12      5   3135  \n",
       "Dean           NaN   Simpson        0.30      9  10077  \n",
       "Zach           NaN    Peters        0.50      3  18782  "
      ]
     },
     "execution_count": 50,
     "metadata": {
      "tags": []
     },
     "output_type": "execute_result"
    }
   ],
   "source": [
    "df"
   ]
  },
  {
   "cell_type": "markdown",
   "metadata": {
    "colab_type": "text",
    "id": "O2AGdcL-WLFd"
   },
   "source": [
    "## Assigning an entire column with `.loc` and `.iloc`\n",
    "Normally, [ ] is used to change values of an entire column, but it's also possible to do it with both **`.loc`** and **.`iloc`**. You have to remember that the fist selection made by both these indexers is the rows. To select all rows, use the colon **`:`**.\n",
    "\n",
    "For instance, let's see this in action by changing all values in the **`FLOOR`** column."
   ]
  },
  {
   "cell_type": "code",
   "execution_count": 0,
   "metadata": {
    "colab": {},
    "colab_type": "code",
    "id": "b0OJupVBWLFd"
   },
   "outputs": [],
   "source": [
    "df_selected = df[['GENDER', 'YEARS EXPERIENCE', 'SCORE']].copy()"
   ]
  },
  {
   "cell_type": "code",
   "execution_count": 0,
   "metadata": {
    "colab": {},
    "colab_type": "code",
    "id": "2NzVPRhQWLFf"
   },
   "outputs": [],
   "source": [
    "df_selected.loc[df_selected['YEARS EXPERIENCE'] > 20, 'SCORE'] = 100"
   ]
  },
  {
   "cell_type": "code",
   "execution_count": 0,
   "metadata": {
    "colab": {},
    "colab_type": "code",
    "id": "eFKVaKfvWLFh",
    "outputId": "2faa5182-f25a-4c95-cfe1-a770771fab0d"
   },
   "outputs": [
    {
     "data": {
      "text/html": [
       "<div>\n",
       "<style scoped>\n",
       "    .dataframe tbody tr th:only-of-type {\n",
       "        vertical-align: middle;\n",
       "    }\n",
       "\n",
       "    .dataframe tbody tr th {\n",
       "        vertical-align: top;\n",
       "    }\n",
       "\n",
       "    .dataframe thead th {\n",
       "        text-align: right;\n",
       "    }\n",
       "</style>\n",
       "<table border=\"1\" class=\"dataframe\">\n",
       "  <thead>\n",
       "    <tr style=\"text-align: right;\">\n",
       "      <th></th>\n",
       "      <th>GENDER</th>\n",
       "      <th>RACE</th>\n",
       "      <th>DEPARTMENT</th>\n",
       "      <th>YEARS EXPERIENCE</th>\n",
       "      <th>SALARY</th>\n",
       "      <th>SCORE</th>\n",
       "      <th>last name</th>\n",
       "      <th>LAST NAME</th>\n",
       "    </tr>\n",
       "  </thead>\n",
       "  <tbody>\n",
       "    <tr>\n",
       "      <th>Tom</th>\n",
       "      <td>Male</td>\n",
       "      <td>White</td>\n",
       "      <td>Engineering</td>\n",
       "      <td>23</td>\n",
       "      <td>107962</td>\n",
       "      <td>99</td>\n",
       "      <td>NaN</td>\n",
       "      <td>Smith</td>\n",
       "    </tr>\n",
       "    <tr>\n",
       "      <th>Niko</th>\n",
       "      <td>Male</td>\n",
       "      <td>Black</td>\n",
       "      <td>Engineering</td>\n",
       "      <td>1</td>\n",
       "      <td>30347</td>\n",
       "      <td>99</td>\n",
       "      <td>NaN</td>\n",
       "      <td>Jones</td>\n",
       "    </tr>\n",
       "    <tr>\n",
       "      <th>Penelope</th>\n",
       "      <td>Female</td>\n",
       "      <td>White</td>\n",
       "      <td>Engineering</td>\n",
       "      <td>12</td>\n",
       "      <td>60258</td>\n",
       "      <td>99</td>\n",
       "      <td>NaN</td>\n",
       "      <td>Williams</td>\n",
       "    </tr>\n",
       "    <tr>\n",
       "      <th>Aria</th>\n",
       "      <td>Female</td>\n",
       "      <td>Black</td>\n",
       "      <td>Engineering</td>\n",
       "      <td>8</td>\n",
       "      <td>43618</td>\n",
       "      <td>99</td>\n",
       "      <td>NaN</td>\n",
       "      <td>Green</td>\n",
       "    </tr>\n",
       "    <tr>\n",
       "      <th>Sofia</th>\n",
       "      <td>Female</td>\n",
       "      <td>Black</td>\n",
       "      <td>Parks &amp; Recreation</td>\n",
       "      <td>23</td>\n",
       "      <td>26125</td>\n",
       "      <td>99</td>\n",
       "      <td>NaN</td>\n",
       "      <td>Brown</td>\n",
       "    </tr>\n",
       "    <tr>\n",
       "      <th>Dean</th>\n",
       "      <td>Male</td>\n",
       "      <td>Black</td>\n",
       "      <td>Parks &amp; Recreation</td>\n",
       "      <td>3</td>\n",
       "      <td>33592</td>\n",
       "      <td>99</td>\n",
       "      <td>NaN</td>\n",
       "      <td>NaN</td>\n",
       "    </tr>\n",
       "    <tr>\n",
       "      <th>Zach</th>\n",
       "      <td>Male</td>\n",
       "      <td>White</td>\n",
       "      <td>Parks &amp; Recreation</td>\n",
       "      <td>4</td>\n",
       "      <td>37565</td>\n",
       "      <td>99</td>\n",
       "      <td>NaN</td>\n",
       "      <td>NaN</td>\n",
       "    </tr>\n",
       "  </tbody>\n",
       "</table>\n",
       "</div>"
      ],
      "text/plain": [
       "          GENDER   RACE          DEPARTMENT  YEARS EXPERIENCE  SALARY  SCORE  \\\n",
       "Tom         Male  White         Engineering                23  107962     99   \n",
       "Niko        Male  Black         Engineering                 1   30347     99   \n",
       "Penelope  Female  White         Engineering                12   60258     99   \n",
       "Aria      Female  Black         Engineering                 8   43618     99   \n",
       "Sofia     Female  Black  Parks & Recreation                23   26125     99   \n",
       "Dean        Male  Black  Parks & Recreation                 3   33592     99   \n",
       "Zach        Male  White  Parks & Recreation                 4   37565     99   \n",
       "\n",
       "         last name LAST NAME  \n",
       "Tom            NaN     Smith  \n",
       "Niko           NaN     Jones  \n",
       "Penelope       NaN  Williams  \n",
       "Aria           NaN     Green  \n",
       "Sofia          NaN     Brown  \n",
       "Dean           NaN       NaN  \n",
       "Zach           NaN       NaN  "
      ]
     },
     "execution_count": 28,
     "metadata": {
      "tags": []
     },
     "output_type": "execute_result"
    }
   ],
   "source": [
    "df"
   ]
  },
  {
   "cell_type": "code",
   "execution_count": 0,
   "metadata": {
    "colab": {},
    "colab_type": "code",
    "id": "1o498D2pWLFl"
   },
   "outputs": [],
   "source": [
    "df_orig = df.copy()\n",
    "df.loc[:, 'FLOOR'] = 33\n",
    "df"
   ]
  },
  {
   "cell_type": "markdown",
   "metadata": {
    "colab_type": "text",
    "id": "YDgph7ayWLFn"
   },
   "source": [
    "And with **`.iloc`**:"
   ]
  },
  {
   "cell_type": "code",
   "execution_count": 0,
   "metadata": {
    "colab": {},
    "colab_type": "code",
    "id": "FYmghd8IWLFo"
   },
   "outputs": [],
   "source": [
    "df_orig = df.copy()\n",
    "df.iloc[:, 7] = 22\n",
    "df"
   ]
  },
  {
   "cell_type": "markdown",
   "metadata": {
    "colab_type": "text",
    "id": "gbJQL1c5WLFr"
   },
   "source": [
    "## Assigning with boolean selection\n",
    "It is more common to use boolean selection to make assignments to subsets than with directly selecting subsets by label or integer location.\n",
    "\n",
    "For instance, let's say we wanted to give everyone in the engineering department a $5,000 bonus on top of what they already have.\n",
    "\n",
    "Before making the assignment, let's properly select the data with boolean indexing."
   ]
  },
  {
   "cell_type": "code",
   "execution_count": 0,
   "metadata": {
    "colab": {},
    "colab_type": "code",
    "id": "chAs1JPuWLFs",
    "outputId": "725381f9-a59d-4407-d1e1-72e3c96b9712"
   },
   "outputs": [
    {
     "data": {
      "text/plain": [
       "Tom         21592\n",
       "Niko         3034\n",
       "Penelope        0\n",
       "Aria         6542\n",
       "Name: BONUS, dtype: int32"
      ]
     },
     "execution_count": 51,
     "metadata": {
      "tags": []
     },
     "output_type": "execute_result"
    }
   ],
   "source": [
    "df.loc[df['DEPARTMENT'] == 'Engineering', 'BONUS']"
   ]
  },
  {
   "cell_type": "markdown",
   "metadata": {
    "colab_type": "text",
    "id": "uzQCk0ixWLFv"
   },
   "source": [
    "Once we have confirmed that our selection works, we can make an assignment. We can use the **`+=`** operator to shorten the syntax considerably, which will assign the value back to itself."
   ]
  },
  {
   "cell_type": "code",
   "execution_count": 0,
   "metadata": {
    "colab": {},
    "colab_type": "code",
    "id": "zBn5UxkDWLFw"
   },
   "outputs": [],
   "source": [
    "df_orig = df.copy()\n",
    "\n",
    "df.loc[df['DEPARTMENT'] == 'Engineering', 'BONUS'] += 5000"
   ]
  },
  {
   "cell_type": "markdown",
   "metadata": {
    "colab_type": "text",
    "id": "3IgbZjPNWLFy"
   },
   "source": [
    "## Assigning with multiple condition boolean selection\n",
    "Let's do an example with multiple boolean conditions. Let's subtract 10 from the **`SCORE`** of all the black females and white males."
   ]
  },
  {
   "cell_type": "code",
   "execution_count": 0,
   "metadata": {
    "colab": {},
    "colab_type": "code",
    "id": "o4fh0dumWLFz"
   },
   "outputs": [],
   "source": [
    "# check our logic first\n",
    "white_male = (df['GENDER'] == 'Male') & (df['RACE'] == 'White')\n",
    "black_female = (df['GENDER'] == 'Female') & (df['RACE'] == 'Black')\n",
    "criteria = white_male | black_female\n",
    "df[criteria]"
   ]
  },
  {
   "cell_type": "code",
   "execution_count": 0,
   "metadata": {
    "colab": {},
    "colab_type": "code",
    "id": "PdFK5BvFWLF3"
   },
   "outputs": [],
   "source": [
    "df_orig = df.copy()\n",
    "df.loc[criteria, 'SCORE'] -= 10\n",
    "df"
   ]
  },
  {
   "cell_type": "markdown",
   "metadata": {
    "colab_type": "text",
    "id": "pJdrldkFWLF6"
   },
   "source": [
    "## Assigning subsets of data in a Series\n",
    "Assigning subsets of pandas Series is a less common operation but happens analogously to a DataFrame.\n",
    "\n",
    "Let's first select a copy of the **`SALARY`** column from our above DataFrame:"
   ]
  },
  {
   "cell_type": "code",
   "execution_count": 0,
   "metadata": {
    "colab": {},
    "colab_type": "code",
    "id": "ZT1uDPxSWLF9"
   },
   "outputs": [],
   "source": [
    "s = df['SALARY'].copy()\n",
    "s"
   ]
  },
  {
   "cell_type": "markdown",
   "metadata": {
    "colab_type": "text",
    "id": "_KHDvS0wWLGA"
   },
   "source": [
    "We didn't have to use the **`copy`** method, but we did so to avoid the **`SettingWithCopy`** warning. This is a common warning when making assignments during subset selection."
   ]
  },
  {
   "cell_type": "markdown",
   "metadata": {
    "colab_type": "text",
    "id": "QcqvY91RWLGB"
   },
   "source": [
    "## Assigning with `.loc` and `.iloc`\n",
    "Since Series do not have columns, I don't use *[ ]* with them (unless I am doing boolean selection). It can be used to select rows, but is ambiguous and confusing and therefore I avoid it. All the capability of explicitly selecting particular Series values is provided with **`.loc`** and **`.iloc`**.\n",
    "\n",
    "Let's change the salary of **`Tom`**, **`Sofia`**, and **`Zach`**."
   ]
  },
  {
   "cell_type": "code",
   "execution_count": 0,
   "metadata": {
    "colab": {},
    "colab_type": "code",
    "id": "2mJNU3qOWLGC"
   },
   "outputs": [],
   "source": [
    "s.loc[['Tom', 'Sofia', 'Zach']] = [99999, 39999, 49999]\n",
    "s"
   ]
  },
  {
   "cell_type": "markdown",
   "metadata": {
    "colab_type": "text",
    "id": "lnWdTGoRWLGH"
   },
   "source": [
    "## Assigning Series with boolean indexing\n",
    "We can use boolean indexing to make assignments as well. Using *[ ]* is acceptable here. Let's double all the salaries below 40,000"
   ]
  },
  {
   "cell_type": "code",
   "execution_count": 0,
   "metadata": {
    "colab": {},
    "colab_type": "code",
    "id": "09bdHQ4IWLGI"
   },
   "outputs": [],
   "source": [
    "s_orig = s.copy()\n",
    "s[s < 40000] *= 2"
   ]
  },
  {
   "cell_type": "markdown",
   "metadata": {
    "colab_type": "text",
    "id": "AD96Nzs2WLGP"
   },
   "source": [
    "Both *[ ]* and **`.loc`** work the same when doing boolean indexing on a Series. However, as mentioned in NoteBook 2, **`.iloc`** should almost never be used when doing boolean indexing as it's not implemented fully."
   ]
  },
  {
   "cell_type": "markdown",
   "metadata": {
    "colab_type": "text",
    "id": "5Xh5it9BWLGQ"
   },
   "source": [
    "# Summary\n",
    "\n",
    "* Assignment means using the equal sign to assign a variable on the left-hand side to an expression on the right-hand side\n",
    "* New columns are created by passing a string to [ ] and setting it equal to either a scalar, a list/array the same length as the DataFrame, or a Series with identical index as the DataFrame\n",
    "* There is no output when you make an assignment. You must use an extra line to display the DataFrame/Series\n",
    "* Select a specific subset of rows/columns with **`.loc`** or **`.iloc`** and manually assign them value with a list/array.\n",
    "* Use the **`style`** attribute to make particular values pop out for visual display\n",
    "* You can assign entire columns with **`.loc`** or **`.iloc`** by using the colon, **`:`** for rows\n",
    "* A more common operation is to use boolean indexing to select subsets of data before making an assignment\n",
    "* Assigning new values to a Series is similar to DataFrames except that we don't use **`.iloc`** for boolean indexing"
   ]
  },
  {
   "cell_type": "markdown",
   "metadata": {
    "colab_type": "text",
    "id": "eh-wqPnjWLGR"
   },
   "source": [
    "# Exercises\n",
    "We will continue to use the employee sample DataFrame for all the exercises in this tutorial"
   ]
  },
  {
   "cell_type": "code",
   "execution_count": 0,
   "metadata": {
    "colab": {},
    "colab_type": "code",
    "id": "cHOII7cwWLGT"
   },
   "outputs": [],
   "source": [
    "import pandas as pd\n",
    "import numpy as np"
   ]
  },
  {
   "cell_type": "code",
   "execution_count": 0,
   "metadata": {
    "colab": {},
    "colab_type": "code",
    "id": "aHipYLCBWLGV"
   },
   "outputs": [],
   "source": [
    "df = pd.read_csv('data/employee_sample.csv', index_col=0)\n",
    "df"
   ]
  },
  {
   "cell_type": "markdown",
   "metadata": {
    "colab_type": "text",
    "id": "DyJ4vonYWLGX"
   },
   "source": [
    "### Exercise 1\n",
    "<span  style=\"color:green; font-size:16px\"> Create a Series with the index equal to the same values in **`df`** but in a different order. Make the values of the Series integers representing the employee's age ranging somewhere from 20 to 65. Create a new column **`AGE`**. Does the order of the index matter?</span>"
   ]
  },
  {
   "cell_type": "code",
   "execution_count": 0,
   "metadata": {
    "colab": {},
    "colab_type": "code",
    "collapsed": true,
    "id": "j05skYzrWLGY"
   },
   "outputs": [],
   "source": [
    "#your code here"
   ]
  },
  {
   "cell_type": "markdown",
   "metadata": {
    "colab_type": "text",
    "id": "B5AnZhnWWLGa"
   },
   "source": [
    "### Exercise 2\n",
    "<span  style=\"color:green; font-size:16px\"> Create a new column **`BONUS`** equal to 0 for everyone</span>"
   ]
  },
  {
   "cell_type": "code",
   "execution_count": 0,
   "metadata": {
    "colab": {},
    "colab_type": "code",
    "collapsed": true,
    "id": "02MZd1ReWLGd"
   },
   "outputs": [],
   "source": [
    "#your code here"
   ]
  },
  {
   "cell_type": "markdown",
   "metadata": {
    "colab_type": "text",
    "id": "UncgCCN7WLGf"
   },
   "source": [
    "### Exercise 3\n",
    "<span  style=\"color:green; font-size:16px\"> Change the **`BONUS`** column so that everyone with more than 10 years of experience get $10,000.</span>"
   ]
  },
  {
   "cell_type": "code",
   "execution_count": 0,
   "metadata": {
    "colab": {},
    "colab_type": "code",
    "collapsed": true,
    "id": "BeI1WgGjWLGg"
   },
   "outputs": [],
   "source": [
    "#your code here"
   ]
  },
  {
   "cell_type": "markdown",
   "metadata": {
    "colab_type": "text",
    "id": "upsr4ZWvWLGi"
   },
   "source": [
    "### Exercise 4\n",
    "<span  style=\"color:green; font-size:16px\"> Create a new column **`TOTAL SALARY`** that is 10% higher than the current **`SALARY`** column and add the bonus on top of that as well. Use **`.loc`** on the left-hand side and NOT *[ ]*. Make the data type **`TOTAL SALARY`** an integer.</span>"
   ]
  },
  {
   "cell_type": "code",
   "execution_count": 0,
   "metadata": {
    "colab": {},
    "colab_type": "code",
    "collapsed": true,
    "id": "guAlvkK-WLGj"
   },
   "outputs": [],
   "source": [
    "#your code here"
   ]
  },
  {
   "cell_type": "markdown",
   "metadata": {
    "colab_type": "text",
    "id": "-ZJZsUZwWLGl"
   },
   "source": [
    "### Exercise 5\n",
    "<span  style=\"color:green; font-size:16px\"> Set Aria's department to 'Police'.</span>"
   ]
  },
  {
   "cell_type": "code",
   "execution_count": 0,
   "metadata": {
    "colab": {},
    "colab_type": "code",
    "collapsed": true,
    "id": "qzG1dFssWLGm"
   },
   "outputs": [],
   "source": [
    "#your code here"
   ]
  },
  {
   "cell_type": "markdown",
   "metadata": {
    "colab_type": "text",
    "id": "ViPBOJknWLGr"
   },
   "source": [
    "### Exercise 6\n",
    "<span  style=\"color:green; font-size:16px\"> Give all the white engineers a salary raise of 10,000 and all the black Parks & Recreation employees a decrease in salary by 10,000.</span>"
   ]
  },
  {
   "cell_type": "code",
   "execution_count": 0,
   "metadata": {
    "colab": {},
    "colab_type": "code",
    "collapsed": true,
    "id": "8EvlN5TbWLGs"
   },
   "outputs": [],
   "source": [
    "#your code here"
   ]
  },
  {
   "cell_type": "markdown",
   "metadata": {
    "colab_type": "text",
    "id": "x2ab0pcxWLGy"
   },
   "source": [
    "### Exercise 7\n",
    "<span  style=\"color:green; font-size:16px\"> Use **`.iloc`** to change the age of the employees with integer location 3 and 5 to 60 and 65 respectively.</span>"
   ]
  },
  {
   "cell_type": "code",
   "execution_count": 0,
   "metadata": {
    "colab": {},
    "colab_type": "code",
    "collapsed": true,
    "id": "u0xtJ2cpWLGz"
   },
   "outputs": [],
   "source": [
    "#your code here"
   ]
  }
 ],
 "metadata": {
  "colab": {
   "name": "6. Assigning subsets of data.ipynb",
   "provenance": [],
   "version": "0.3.2"
  },
  "kernelspec": {
   "display_name": "Python 3",
   "language": "python",
   "name": "python3"
  },
  "language_info": {
   "codemirror_mode": {
    "name": "ipython",
    "version": 3
   },
   "file_extension": ".py",
   "mimetype": "text/x-python",
   "name": "python",
   "nbconvert_exporter": "python",
   "pygments_lexer": "ipython3",
   "version": "3.8.2"
  }
 },
 "nbformat": 4,
 "nbformat_minor": 1
}
